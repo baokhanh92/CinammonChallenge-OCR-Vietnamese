{
 "cells": [
  {
   "cell_type": "code",
   "execution_count": 67,
   "metadata": {},
   "outputs": [],
   "source": [
    "# !unzip 2.zip"
   ]
  },
  {
   "cell_type": "code",
   "execution_count": 68,
   "metadata": {},
   "outputs": [],
   "source": [
    "# !pip install tensorflow-datasets"
   ]
  },
  {
   "cell_type": "code",
   "execution_count": 69,
   "metadata": {},
   "outputs": [],
   "source": [
    "import cv2\n",
    "\n",
    "import numpy as np\n",
    "import matplotlib.pyplot as plt\n",
    "\n",
    "import tensorflow as tf\n",
    "from tensorflow.keras.models import Model\n",
    "import tensorflow_datasets as tfds\n",
    "from tensorflow.keras.preprocessing.sequence import pad_sequences\n",
    "# import preprocess as prep\n",
    "import h5py\n",
    "import unicodedata\n",
    "import json\n",
    "\n",
    "%matplotlib inline"
   ]
  },
  {
   "cell_type": "code",
   "execution_count": 70,
   "metadata": {},
   "outputs": [],
   "source": [
    "import pathlib\n",
    "import glob\n",
    "import os\n",
    "import shutil"
   ]
  },
  {
   "cell_type": "code",
   "execution_count": 71,
   "metadata": {},
   "outputs": [],
   "source": [
    "# !sudo pip install mahotas"
   ]
  },
  {
   "cell_type": "code",
   "execution_count": 72,
   "metadata": {},
   "outputs": [],
   "source": [
    "# import imutils\n",
    "# import mahotas"
   ]
  },
  {
   "cell_type": "code",
   "execution_count": 73,
   "metadata": {},
   "outputs": [
    {
     "name": "stdout",
     "output_type": "stream",
     "text": [
      "/home/khanh/Coderschool/week8/weekly-project/data/raw/0916_Data Samples 2\n"
     ]
    },
    {
     "data": {
      "text/plain": [
       "'/home/khanh/Coderschool/week8/weekly-project/data/data/Train'"
      ]
     },
     "execution_count": 73,
     "metadata": {},
     "output_type": "execute_result"
    }
   ],
   "source": [
    "ROOT ='/home/khanh/Coderschool/week8/weekly-project/data/raw'\n",
    "TRAIN_DIR = os.path.join(ROOT, '0916_Data Samples 2')\n",
    "TEST_DIR = os.path.join(ROOT, '0825_DataSamples 1')\n",
    "TRAIN_PRE = os.path.join('/home/khanh/Coderschool/week8/weekly-project/data/data', 'Train')\n",
    "TEST_PRE = os.path.join('/home/khanh/Coderschool/week8/weekly-project/data/data', 'Test')\n",
    "# os.mkdir(TRAIN_DIR)\n",
    "# os.mkdir(TEST_DIR)\n",
    "print(TRAIN_DIR)\n",
    "TRAIN_PRE"
   ]
  },
  {
   "cell_type": "code",
   "execution_count": 74,
   "metadata": {},
   "outputs": [],
   "source": [
    "path = pathlib.Path(TRAIN_DIR, '')\n",
    "all_file_path = path.glob('**/*')\n",
    "all_file_path = list(all_file_path)\n",
    "all_file_path = [str(path) for path in all_file_path]"
   ]
  },
  {
   "cell_type": "code",
   "execution_count": 75,
   "metadata": {},
   "outputs": [],
   "source": [
    "def clean_ipynb_folder_if_exists(folder):\n",
    "    folder = pathlib.Path(folder)\n",
    "    ipynb_paths = [str(item) for item in folder.glob('**/*') if item.is_dir() and item.name.startswith('.ipynb')]\n",
    "    if len(ipynb_paths) > 0:\n",
    "        for eachdir in ipynb_paths:\n",
    "            shutil.rmtree(eachdir)\n",
    "            print(\"Removed\", eachdir)\n",
    "    else:\n",
    "        print('No .ipynb_checkpoints to remove')"
   ]
  },
  {
   "cell_type": "code",
   "execution_count": 76,
   "metadata": {},
   "outputs": [],
   "source": [
    "def get_path(folder_path):\n",
    "    path = pathlib.Path(folder_path, '')\n",
    "\n",
    "    all_file_path = path.glob('**/*')\n",
    "    all_file_path = list(all_file_path)\n",
    "    all_file_path = [str(path) for path in all_file_path]\n",
    "    all_file_path = [m for m in all_file_path if m.lower().endswith(('.png', '.jpg', '.jpeg'))]\n",
    "    clean_ipynb_folder_if_exists(folder_path)\n",
    "    \n",
    "    return all_file_path"
   ]
  },
  {
   "cell_type": "code",
   "execution_count": 77,
   "metadata": {},
   "outputs": [
    {
     "name": "stdout",
     "output_type": "stream",
     "text": [
      "No .ipynb_checkpoints to remove\n"
     ]
    },
    {
     "data": {
      "text/plain": [
       "['/home/khanh/Coderschool/week8/weekly-project/data/raw/0825_DataSamples 1/7.jpg',\n",
       " '/home/khanh/Coderschool/week8/weekly-project/data/raw/0825_DataSamples 1/2.jpg',\n",
       " '/home/khanh/Coderschool/week8/weekly-project/data/raw/0825_DataSamples 1/11.jpg',\n",
       " '/home/khanh/Coderschool/week8/weekly-project/data/raw/0825_DataSamples 1/9.JPG',\n",
       " '/home/khanh/Coderschool/week8/weekly-project/data/raw/0825_DataSamples 1/10.JPG',\n",
       " '/home/khanh/Coderschool/week8/weekly-project/data/raw/0825_DataSamples 1/12.jpg',\n",
       " '/home/khanh/Coderschool/week8/weekly-project/data/raw/0825_DataSamples 1/5.jpg',\n",
       " '/home/khanh/Coderschool/week8/weekly-project/data/raw/0825_DataSamples 1/3.jpg',\n",
       " '/home/khanh/Coderschool/week8/weekly-project/data/raw/0825_DataSamples 1/4.jpeg',\n",
       " '/home/khanh/Coderschool/week8/weekly-project/data/raw/0825_DataSamples 1/1.jpg',\n",
       " '/home/khanh/Coderschool/week8/weekly-project/data/raw/0825_DataSamples 1/15.jpg',\n",
       " '/home/khanh/Coderschool/week8/weekly-project/data/raw/0825_DataSamples 1/6.jpg',\n",
       " '/home/khanh/Coderschool/week8/weekly-project/data/raw/0825_DataSamples 1/8.jpg',\n",
       " '/home/khanh/Coderschool/week8/weekly-project/data/raw/0825_DataSamples 1/13.jpg',\n",
       " '/home/khanh/Coderschool/week8/weekly-project/data/raw/0825_DataSamples 1/14.jpg']"
      ]
     },
     "execution_count": 77,
     "metadata": {},
     "output_type": "execute_result"
    }
   ],
   "source": [
    "get_path(TEST_DIR)"
   ]
  },
  {
   "cell_type": "code",
   "execution_count": 78,
   "metadata": {},
   "outputs": [
    {
     "data": {
      "text/plain": [
       "1824"
      ]
     },
     "execution_count": 78,
     "metadata": {},
     "output_type": "execute_result"
    }
   ],
   "source": [
    "len(all_file_path)"
   ]
  },
  {
   "cell_type": "code",
   "execution_count": 79,
   "metadata": {},
   "outputs": [],
   "source": [
    "# all_file_path = [path for path in all_file_path if os.path.isfile(path)] "
   ]
  },
  {
   "cell_type": "code",
   "execution_count": 80,
   "metadata": {},
   "outputs": [
    {
     "name": "stdout",
     "output_type": "stream",
     "text": [
      "1823\n"
     ]
    },
    {
     "data": {
      "text/plain": [
       "['/home/khanh/Coderschool/week8/weekly-project/data/raw/0916_Data Samples 2/0667_samples.png',\n",
       " '/home/khanh/Coderschool/week8/weekly-project/data/raw/0916_Data Samples 2/0523_samples.png',\n",
       " '/home/khanh/Coderschool/week8/weekly-project/data/raw/0916_Data Samples 2/0928_samples.png',\n",
       " '/home/khanh/Coderschool/week8/weekly-project/data/raw/0916_Data Samples 2/0961_samples.png',\n",
       " '/home/khanh/Coderschool/week8/weekly-project/data/raw/0916_Data Samples 2/1771_samples.png']"
      ]
     },
     "execution_count": 80,
     "metadata": {},
     "output_type": "execute_result"
    }
   ],
   "source": [
    "# To remove any file is not image\n",
    "all_file_path = [m for m in all_file_path if m.lower().endswith(('.png', '.jpg', '.jpeg'))]\n",
    "print(len(all_file_path))\n",
    "all_file_path[:5]"
   ]
  },
  {
   "cell_type": "code",
   "execution_count": 81,
   "metadata": {},
   "outputs": [],
   "source": [
    "# print(len(all_file_path_new))\n",
    "# for i in all_file_path:\n",
    "#     if i not in all_file_path_new:\n",
    "#         print(i)"
   ]
  },
  {
   "cell_type": "code",
   "execution_count": 82,
   "metadata": {},
   "outputs": [],
   "source": [
    "# # Testing processing img with only one img for saving time\n",
    "# import random\n",
    "# random.seed(42)\n",
    "\n",
    "# test_image = random.choice(all_file_path)\n",
    "# test_image\n",
    "\n",
    "# # shutil.copy(test_image, str(TRAIN_DIR))"
   ]
  },
  {
   "cell_type": "code",
   "execution_count": 83,
   "metadata": {},
   "outputs": [],
   "source": [
    "def _get_data(type_):\n",
    "    ''' Build tf dataset form already repreocessing file'''\n",
    "    data_path = os.path.join('.', 'Data', '{}.hdf5'.format(type_))\n",
    "    dataset = dict()\n",
    "    with h5py.File(data_path, 'r') as f:\n",
    "        dataset['image'] = f['image'][:]\n",
    "        dataset['label'] = f['label'][:]\n",
    "        \n",
    "        size = len(dataset['label'])\n",
    "        dataset['label'] = [x.decode() for x in dataset['label']]\n",
    "        \n",
    "        return dataset, size"
   ]
  },
  {
   "cell_type": "code",
   "execution_count": 84,
   "metadata": {},
   "outputs": [],
   "source": [
    "def load_label(folder_path):\n",
    "    labels = json.load(open(os.path.join(folder_path, 'labels.json')))\n",
    "    return labels\n",
    "\n",
    "# lables = json.load(open(os.path.join('.', 'Data', '{}.json'.format('labels'))))"
   ]
  },
  {
   "cell_type": "code",
   "execution_count": 85,
   "metadata": {},
   "outputs": [],
   "source": [
    "def clean_label(all_file_path, all_labels):\n",
    "    remove_path = []\n",
    "    for i in all_file_path:\n",
    "        key = i.split('/')[-1]\n",
    "        if key not in all_labels:\n",
    "            remove_path.append(i)\n",
    "            for i in remove_path:\n",
    "                all_file_path.remove(i)\n",
    "    \n",
    "    return all_file_path"
   ]
  },
  {
   "cell_type": "code",
   "execution_count": 86,
   "metadata": {},
   "outputs": [],
   "source": [
    "def labelling(folder_path):\n",
    "    all_img_labels = []\n",
    "    all_labels = load_label(folder_path)\n",
    "    all_file_path = get_path(folder_path)\n",
    "    for i in all_file_path:\n",
    "        key = i.split('/')[-1]\n",
    "        if key in all_labels:\n",
    "            all_img_labels.append(all_labels[key])\n",
    "    \n",
    "    return all_img_labels\n",
    "\n"
   ]
  },
  {
   "cell_type": "code",
   "execution_count": 87,
   "metadata": {},
   "outputs": [
    {
     "name": "stdout",
     "output_type": "stream",
     "text": [
      "No .ipynb_checkpoints to remove\n"
     ]
    },
    {
     "data": {
      "text/plain": [
       "15"
      ]
     },
     "execution_count": 87,
     "metadata": {},
     "output_type": "execute_result"
    }
   ],
   "source": [
    "len(labelling(TEST_DIR))"
   ]
  },
  {
   "cell_type": "code",
   "execution_count": 88,
   "metadata": {},
   "outputs": [
    {
     "data": {
      "text/plain": [
       "<function matplotlib.pyplot.show(*args, **kw)>"
      ]
     },
     "execution_count": 88,
     "metadata": {},
     "output_type": "execute_result"
    },
    {
     "data": {
      "image/png": "[encoded data removed]",
      "text/plain": [
       "<Figure size 432x288 with 1 Axes>"
      ]
     },
     "metadata": {
      "needs_background": "light"
     },
     "output_type": "display_data"
    }
   ],
   "source": [
    "import random\n",
    "random.seed(42)\n",
    "\n",
    "test_imge = random.choice(all_file_path)\n",
    "image = cv2.imread(test_imge)           \n",
    "plt.imshow(image)\n",
    "plt.show\n",
    "\n",
    "# r = image.shape[1] // image.shape[0]\n",
    "# dim = (500*r, 500)\n",
    "# resize = cv2.resize(image, dim)\n",
    "# print(resize.shape)"
   ]
  },
  {
   "cell_type": "code",
   "execution_count": 89,
   "metadata": {},
   "outputs": [],
   "source": [
    "def tokenize(folder_path):\n",
    "    res = []\n",
    "    \n",
    "    all_img_labels = labelling(folder_path)\n",
    "    for label in all_img_labels:\n",
    "        for word in label:\n",
    "            if word not in res:\n",
    "                res.append(word)\n",
    "    return res"
   ]
  },
  {
   "cell_type": "code",
   "execution_count": 90,
   "metadata": {},
   "outputs": [
    {
     "name": "stdout",
     "output_type": "stream",
     "text": [
      "No .ipynb_checkpoints to remove\n"
     ]
    },
    {
     "data": {
      "text/plain": [
       "82"
      ]
     },
     "execution_count": 90,
     "metadata": {},
     "output_type": "execute_result"
    }
   ],
   "source": [
    "a = tokenize(TEST_DIR)\n",
    "len(a)"
   ]
  },
  {
   "cell_type": "code",
   "execution_count": 91,
   "metadata": {},
   "outputs": [],
   "source": [
    "# test_res = []\n",
    "\n",
    "# for label in test_label:\n",
    "#     for word in label:\n",
    "#         if word not in test_res:\n",
    "#             test_res.append(word)\n",
    "\n",
    "# test_char = ''.join(sorted(test_res))\n"
   ]
  },
  {
   "cell_type": "code",
   "execution_count": 92,
   "metadata": {},
   "outputs": [],
   "source": [
    "def charset(train_dir, test_dir):\n",
    "\n",
    "    train_res = tokenize(train_dir)\n",
    "    test_res = tokenize(test_dir)\n",
    "  \n",
    "    for i in test_res:\n",
    "        if i not in train_res:\n",
    "            train_res.append(i)\n",
    "\n",
    "    charset = ''.join(sorted(train_res))  \n",
    "    return charset"
   ]
  },
  {
   "cell_type": "code",
   "execution_count": 93,
   "metadata": {},
   "outputs": [
    {
     "name": "stdout",
     "output_type": "stream",
     "text": [
      "No .ipynb_checkpoints to remove\n",
      "No .ipynb_checkpoints to remove\n",
      "No .ipynb_checkpoints to remove\n",
      "No .ipynb_checkpoints to remove\n",
      "140  #'()+,-./\n"
     ]
    }
   ],
   "source": [
    "print(len(charset(TRAIN_DIR, TEST_DIR)), charset(TRAIN_DIR, TEST_DIR)[:10])\n"
   ]
  },
  {
   "cell_type": "code",
   "execution_count": 94,
   "metadata": {},
   "outputs": [
    {
     "name": "stdout",
     "output_type": "stream",
     "text": [
      "140\n"
     ]
    }
   ],
   "source": [
    "a = '#()+,-./:0123456789ABCDEFGHIJKLMNOPQRSTUVWXYabcdeghiklmnopqrstwuvxyzÂÊÔàáâãèéêẹìíòóôõùúýăĐđĩũƠơưạảấầẩẫậắằẵặẻẽếềểễệỉịọỏốồổỗộớờởỡợụủỨứừửữựỳỵỷỹ'\n",
    "print(len(a))"
   ]
  },
  {
   "cell_type": "code",
   "execution_count": 95,
   "metadata": {},
   "outputs": [],
   "source": [
    "def encode(train_dir, test_dir):  \n",
    "    res = []\n",
    "    \n",
    "    char = charset(TRAIN_DIR, TEST_DIR)\n",
    "    char2text = {values: key for key, values in enumerate(char)}\n",
    "    train_labels = labelling(TRAIN_DIR)\n",
    "    test_labels = labelling(TEST_DIR)\n",
    "    train_labels.extend(test_labels)\n",
    "    text = [i for i in train_labels]\n",
    "    for line in text:\n",
    "        for word in line:\n",
    "            encode = char2text.get(word)\n",
    "            res.append(encode)\n",
    " \n",
    "    return np.asarray(res, dtype=np.int32)\n",
    "\n",
    "def decode(text_encode):\n",
    "    decode = ''.join([char_array[x] for x in text_encode])\n",
    "    return decode"
   ]
  },
  {
   "cell_type": "code",
   "execution_count": 96,
   "metadata": {},
   "outputs": [
    {
     "name": "stdout",
     "output_type": "stream",
     "text": [
      "No .ipynb_checkpoints to remove\n",
      "No .ipynb_checkpoints to remove\n",
      "No .ipynb_checkpoints to remove\n",
      "No .ipynb_checkpoints to remove\n"
     ]
    },
    {
     "data": {
      "text/plain": [
       "103675"
      ]
     },
     "execution_count": 96,
     "metadata": {},
     "output_type": "execute_result"
    }
   ],
   "source": [
    "len(encode(TRAIN_DIR, TEST_DIR))"
   ]
  },
  {
   "cell_type": "code",
   "execution_count": 97,
   "metadata": {},
   "outputs": [],
   "source": [
    "# for i in all_img_labels:\n",
    "#     for word in i:\n",
    "#         encode = char2text.get(word)\n",
    "#         print(encode)"
   ]
  },
  {
   "cell_type": "markdown",
   "metadata": {},
   "source": [
    "### PREPROCESSING"
   ]
  },
  {
   "cell_type": "code",
   "execution_count": 98,
   "metadata": {},
   "outputs": [],
   "source": [
    "def preprocess_first(img_path):\n",
    "    image = cv2.imread(img_path)\n",
    "    gray = cv2.cvtColor(image, cv2.COLOR_BGR2GRAY)\n",
    "    blurred = cv2.GaussianBlur(gray, (11,11), 0)\n",
    "    edged = cv2.adaptiveThreshold(blurred, 255, cv2.ADAPTIVE_THRESH_MEAN_C, cv2.THRESH_BINARY_INV, 11, 5)\n",
    "    edged = cv2.resize(edged, dsize=(1900, 120))\n",
    "    return edged\n"
   ]
  },
  {
   "cell_type": "code",
   "execution_count": 99,
   "metadata": {},
   "outputs": [
    {
     "name": "stdout",
     "output_type": "stream",
     "text": [
      "No .ipynb_checkpoints to remove\n"
     ]
    },
    {
     "data": {
      "text/plain": [
       "(120, 1900)"
      ]
     },
     "execution_count": 99,
     "metadata": {},
     "output_type": "execute_result"
    },
    {
     "data": {
      "image/png": "[encoded data removed]",
      "text/plain": [
       "<Figure size 432x288 with 1 Axes>"
      ]
     },
     "metadata": {
      "needs_background": "light"
     },
     "output_type": "display_data"
    }
   ],
   "source": [
    "img_path = get_path(TRAIN_DIR)\n",
    "img = preprocess_first(img_path[0])\n",
    "plt.imshow(img)\n",
    "img.shape"
   ]
  },
  {
   "cell_type": "code",
   "execution_count": 100,
   "metadata": {},
   "outputs": [],
   "source": [
    "# max = (0, 0)\n",
    "# for i in all_file_path:\n",
    "#     test = cv2.imread(i)\n",
    "#     if test.shape > max:\n",
    "#         max = test.shape\n",
    "\n",
    "# print(max)"
   ]
  },
  {
   "cell_type": "code",
   "execution_count": 101,
   "metadata": {},
   "outputs": [],
   "source": [
    "TRAIN_NEW = './Data/Train'\n",
    "VAL = './Data/Test'\n",
    "# for i in all_file_path:\n",
    "#     filename = i.split('/')[-1]\n",
    "#     path = os.path.join(TRAIN_NEW, filename)\n",
    "#     image = preprocess(i)\n",
    "#     image = remove_cursive_style(image)\n",
    "#     cv2.imwrite(path, image)\n"
   ]
  },
  {
   "cell_type": "code",
   "execution_count": 102,
   "metadata": {},
   "outputs": [],
   "source": [
    "# from generator import get_path\n",
    "# def load_img(folder_path, save_path):\n",
    "#     all_file_path = get_path(folder_path)\n",
    "#     for i in all_file_path:\n",
    "#         filename = i.split('/')[-1]\n",
    "#         path = os.path.join(save_path, filename)\n",
    "#         image = preprocess_first(i)\n",
    "#         cv2.imwrite(path, image)"
   ]
  },
  {
   "cell_type": "code",
   "execution_count": 103,
   "metadata": {},
   "outputs": [],
   "source": [
    "def load_img(folder_path, save_path):\n",
    "    all_file_path = get_path(folder_path)\n",
    "    for i in all_file_path:\n",
    "        filename = i.split('/')[-1]\n",
    "        path = os.path.join(save_path, filename)\n",
    "        image = preprocess_first(i)\n",
    "        cv2.imwrite(path, image)"
   ]
  },
  {
   "cell_type": "code",
   "execution_count": 104,
   "metadata": {},
   "outputs": [],
   "source": [
    "# a = load_img(TEST_DIR, TEST_PRE)\n",
    "# len(a)"
   ]
  },
  {
   "cell_type": "code",
   "execution_count": 105,
   "metadata": {},
   "outputs": [],
   "source": [
    "path = pathlib.Path(TRAIN_NEW, '')\n",
    "\n",
    "all_file_path = path.glob('*.png')\n",
    "all_file_path = list(all_file_path)\n",
    "all_file_path = [str(path) for path in list(all_file_path)]"
   ]
  },
  {
   "cell_type": "code",
   "execution_count": 106,
   "metadata": {},
   "outputs": [
    {
     "data": {
      "text/plain": [
       "0"
      ]
     },
     "execution_count": 106,
     "metadata": {},
     "output_type": "execute_result"
    }
   ],
   "source": [
    "len(all_file_path)"
   ]
  },
  {
   "cell_type": "code",
   "execution_count": 107,
   "metadata": {},
   "outputs": [
    {
     "name": "stdout",
     "output_type": "stream",
     "text": [
      "0 0\n"
     ]
    }
   ],
   "source": [
    "len_data = len(all_file_path)\n",
    "ratio = 0.1\n",
    "len_train = int(len_data * (1- ratio))\n",
    "len_val = len_data - len_train\n",
    "print(len_train, len_val)"
   ]
  },
  {
   "cell_type": "code",
   "execution_count": 108,
   "metadata": {},
   "outputs": [],
   "source": [
    "# !rm -rf Data/Test/*"
   ]
  },
  {
   "cell_type": "code",
   "execution_count": 109,
   "metadata": {},
   "outputs": [],
   "source": [
    "# import shutil\n",
    "\n",
    "# train_path = all_file_path[:len_train]\n",
    "# val_path = all_file_path[len_train:]\n",
    "\n",
    "# for i in val_path:\n",
    "#     shutil.move(i, VAL)"
   ]
  },
  {
   "cell_type": "code",
   "execution_count": 110,
   "metadata": {},
   "outputs": [],
   "source": [
    "# train_path = pathlib.Path(TRAIN_NEW)\n",
    "# train_path = train_path.glob('**/*')\n",
    "# train_path = [str(i) for i in train_path]\n",
    "# len(train_path)"
   ]
  },
  {
   "cell_type": "code",
   "execution_count": 111,
   "metadata": {},
   "outputs": [],
   "source": [
    "# val_path = pathlib.Path(VAL)\n",
    "# val_path = val_path.glob('**/*')\n",
    "# val_path = [str(i) for i in val_path]\n",
    "# len(val_path)"
   ]
  },
  {
   "cell_type": "code",
   "execution_count": 112,
   "metadata": {},
   "outputs": [
    {
     "name": "stdout",
     "output_type": "stream",
     "text": [
      "No .ipynb_checkpoints to remove\n",
      "No .ipynb_checkpoints to remove\n"
     ]
    }
   ],
   "source": [
    "clean_ipynb_folder_if_exists(TRAIN_NEW)\n",
    "clean_ipynb_folder_if_exists(VAL)"
   ]
  },
  {
   "cell_type": "code",
   "execution_count": 113,
   "metadata": {},
   "outputs": [],
   "source": [
    "# train_label = []\n",
    "# val_label = []\n",
    "\n",
    "# for i in train_path:\n",
    "#     label = (i.split('/'))[-1]\n",
    "#     label = all_labels[label]\n",
    "#     train_label.append(label)\n",
    "    \n",
    "# for i in val_path:\n",
    "#     label = (i.split('/'))[-1]\n",
    "#     label = all_labels[label]\n",
    "#     val_label.append(label)"
   ]
  },
  {
   "cell_type": "code",
   "execution_count": 114,
   "metadata": {},
   "outputs": [
    {
     "name": "stdout",
     "output_type": "stream",
     "text": [
      "No .ipynb_checkpoints to remove\n"
     ]
    },
    {
     "data": {
      "text/plain": [
       "['/home/khanh/Coderschool/week8/weekly-project/data/data/Test/7.jpg',\n",
       " '/home/khanh/Coderschool/week8/weekly-project/data/data/Test/2.jpg',\n",
       " '/home/khanh/Coderschool/week8/weekly-project/data/data/Test/11.jpg',\n",
       " '/home/khanh/Coderschool/week8/weekly-project/data/data/Test/9.JPG',\n",
       " '/home/khanh/Coderschool/week8/weekly-project/data/data/Test/10.JPG']"
      ]
     },
     "execution_count": 114,
     "metadata": {},
     "output_type": "execute_result"
    }
   ],
   "source": [
    "a = get_path(TEST_PRE)\n",
    "a[:5]"
   ]
  },
  {
   "cell_type": "code",
   "execution_count": 115,
   "metadata": {},
   "outputs": [],
   "source": [
    "def get_label_from_dir(new_folder, old_folder):\n",
    "    path_img = get_path(new_folder)\n",
    "    old_label = load_label(old_folder)\n",
    "    new_label = {}\n",
    "    for i in path_img:\n",
    "        label = (i.split('/'))[-1]\n",
    "        label = old_label[label]\n",
    "        new_label[i.split('/')[-1]] = label\n",
    "    \n",
    "    return new_label"
   ]
  },
  {
   "cell_type": "code",
   "execution_count": 116,
   "metadata": {},
   "outputs": [
    {
     "name": "stdout",
     "output_type": "stream",
     "text": [
      "No .ipynb_checkpoints to remove\n"
     ]
    },
    {
     "data": {
      "text/plain": [
       "{'7.jpg': '40 Cát Linh, Đống Đa, Hà Nội',\n",
       " '2.jpg': 'Số 30 Nguyên Hồng, Láng Hạ, Đống Đa, Hà Nội',\n",
       " '11.jpg': '192 Ngô Đức Kế, quận 1, Hồ Chí Minh',\n",
       " '9.JPG': 'Nhà 87 ngõ 416 Đê La Thành',\n",
       " '10.JPG': 'Up coworking Space, 89 Láng Hạ, Hà Nội',\n",
       " '12.jpg': 'số 5 Công Trường Mê Linh, phường Bến Nghé, quận 1',\n",
       " '5.jpg': 'Vĩnh Trung Plaza, B, 255-257 đường Hùng Vương, phường Vĩnh Trung',\n",
       " '3.jpg': '58 Thái Thịnh, Đống Đa, Hà Nội',\n",
       " '4.jpeg': 'Số 370/8 khu phố 5B, phường Tân Biên, Biên Hòa, Đồng Nai',\n",
       " '1.jpg': 'Số 3 Nguyễn Ngọc Vũ, Hà Nội',\n",
       " '15.jpg': '168 Ngô Gia Tự, thành phố Hà Tĩnh',\n",
       " '6.jpg': 'Tòa nhà 34T, Hoàng Đạo Thúy, Hà Nội',\n",
       " '8.jpg': 'phòng 101, tầng 1, lô 04-TT5B, khu đô thị Tây Nam Linh Đàm',\n",
       " '13.jpg': '90A đường Mai Xuân Thưởng, tỉnh Gia Lai',\n",
       " '14.jpg': '96/7/12B Phạm Văn Đồng, thành phố Pleiku'}"
      ]
     },
     "execution_count": 116,
     "metadata": {},
     "output_type": "execute_result"
    }
   ],
   "source": [
    "get_label_from_dir(TEST_PRE, TEST_DIR)"
   ]
  },
  {
   "cell_type": "markdown",
   "metadata": {},
   "source": [
    "### DATA GENERATOR"
   ]
  },
  {
   "cell_type": "code",
   "execution_count": 117,
   "metadata": {},
   "outputs": [],
   "source": [
    "def preprocess_path(path):\n",
    "    label = (path.split('/'))[-1]\n",
    "    label = all_labels[label]\n",
    "    image = tf.io.read_file(path)\n",
    "    image = tf.image.decode_jpeg(image, channels=3)\n",
    "#     image = tf.image.convert_image_dtype(image, tf.float32)\n",
    "#     image = tf.image.per_image_standardization(image)\n",
    "    image = image[:,:,1]\n",
    "    image = np.expand_dims(image, axis=2)\n",
    "    return np.array(image), label"
   ]
  },
  {
   "cell_type": "code",
   "execution_count": 118,
   "metadata": {},
   "outputs": [],
   "source": [
    "def pre_for_model(new_folder, old_folder):\n",
    "    all_path = get_path(new_folder)\n",
    "    all_label = get_label_from_dir(new_folder, old_folder)\n",
    "    label_list = []\n",
    "    image_list = []\n",
    "    \n",
    "    for path in all_path:\n",
    "        label = (path.split('/'))[-1]\n",
    "        label = all_label[label]\n",
    "        label_list.append(label)\n",
    "        \n",
    "        image = tf.io.read_file(path)\n",
    "        image = tf.image.decode_jpeg(image, channels=3)\n",
    "    #     image = tf.image.convert_image_dtype(image, tf.float32)\n",
    "    #     image = tf.image.per_image_standardization(image)\n",
    "        image = image[:,:,1]\n",
    "        image = np.expand_dims(image, axis=2)\n",
    "        image_list.append(np.array(image))\n",
    "    \n",
    "    return image_list, label_list"
   ]
  },
  {
   "cell_type": "code",
   "execution_count": 119,
   "metadata": {},
   "outputs": [],
   "source": [
    "# all_path = get_path(TEST_DIR)\n",
    "# all_label = get_label_from_dir(TEST_PRE, TEST_DIR)\n",
    "\n",
    "# for path in all_path[:5]:\n",
    "#     print(path)\n",
    "#     label = (path.split('/'))[-1]\n",
    "#     print(label)\n",
    "#     label = all_label[label]\n",
    "#     print(label)"
   ]
  },
  {
   "cell_type": "code",
   "execution_count": 120,
   "metadata": {},
   "outputs": [
    {
     "name": "stdout",
     "output_type": "stream",
     "text": [
      "No .ipynb_checkpoints to remove\n",
      "No .ipynb_checkpoints to remove\n",
      "40 Cát Linh, Đống Đa, Hà Nội (120, 1900, 1)\n"
     ]
    }
   ],
   "source": [
    "a, b = pre_for_model(TEST_PRE, TEST_DIR)\n",
    "print(b[0], a[0].shape)"
   ]
  },
  {
   "cell_type": "code",
   "execution_count": 121,
   "metadata": {},
   "outputs": [],
   "source": [
    "# train_count = len(train_label)\n",
    "# val_count = len(val_label)\n",
    "\n",
    "# BATCH_SIZE = 64\n",
    "# AUTOTUNE = tf.data.experimental.AUTOTUNE\n",
    "\n",
    "# def create_ds(images, labels, count):\n",
    "#     ds = tf.data.Dataset.from_tensor_slices((images, labels))\n",
    "#     ds = ds.repeat()\n",
    "#     ds = ds.batch(BATCH_SIZE)\n",
    "#     ds = ds.prefetch(buffer_size=AUTOTUNE)\n",
    "    \n",
    "#     return ds\n"
   ]
  },
  {
   "cell_type": "markdown",
   "metadata": {},
   "source": [
    "### MODEL\n"
   ]
  },
  {
   "cell_type": "code",
   "execution_count": 122,
   "metadata": {},
   "outputs": [
    {
     "ename": "NameError",
     "evalue": "name 'all_labels' is not defined",
     "output_type": "error",
     "traceback": [
      "\u001b[0;31m---------------------------------------------------------------------------\u001b[0m",
      "\u001b[0;31mNameError\u001b[0m                                 Traceback (most recent call last)",
      "\u001b[0;32m<ipython-input-122-ed4e20253f23>\u001b[0m in \u001b[0;36m<module>\u001b[0;34m\u001b[0m\n\u001b[1;32m      1\u001b[0m \u001b[0mtraining_img\u001b[0m \u001b[0;34m=\u001b[0m \u001b[0;34m[\u001b[0m\u001b[0;34m]\u001b[0m\u001b[0;34m\u001b[0m\u001b[0;34m\u001b[0m\u001b[0m\n\u001b[1;32m      2\u001b[0m \u001b[0;32mfor\u001b[0m \u001b[0mi\u001b[0m \u001b[0;32min\u001b[0m \u001b[0mTRAIN_PRE\u001b[0m\u001b[0;34m:\u001b[0m\u001b[0;34m\u001b[0m\u001b[0;34m\u001b[0m\u001b[0m\n\u001b[0;32m----> 3\u001b[0;31m     \u001b[0mimage\u001b[0m \u001b[0;34m=\u001b[0m  \u001b[0mpreprocess_path\u001b[0m\u001b[0;34m(\u001b[0m\u001b[0mi\u001b[0m\u001b[0;34m)\u001b[0m\u001b[0;34m[\u001b[0m\u001b[0;36m0\u001b[0m\u001b[0;34m]\u001b[0m\u001b[0;34m\u001b[0m\u001b[0;34m\u001b[0m\u001b[0m\n\u001b[0m\u001b[1;32m      4\u001b[0m     \u001b[0mtraining_img\u001b[0m\u001b[0;34m.\u001b[0m\u001b[0mappend\u001b[0m\u001b[0;34m(\u001b[0m\u001b[0mimage\u001b[0m\u001b[0;34m)\u001b[0m\u001b[0;34m\u001b[0m\u001b[0;34m\u001b[0m\u001b[0m\n",
      "\u001b[0;32m<ipython-input-117-1dca1e3e9109>\u001b[0m in \u001b[0;36mpreprocess_path\u001b[0;34m(path)\u001b[0m\n\u001b[1;32m      1\u001b[0m \u001b[0;32mdef\u001b[0m \u001b[0mpreprocess_path\u001b[0m\u001b[0;34m(\u001b[0m\u001b[0mpath\u001b[0m\u001b[0;34m)\u001b[0m\u001b[0;34m:\u001b[0m\u001b[0;34m\u001b[0m\u001b[0;34m\u001b[0m\u001b[0m\n\u001b[1;32m      2\u001b[0m     \u001b[0mlabel\u001b[0m \u001b[0;34m=\u001b[0m \u001b[0;34m(\u001b[0m\u001b[0mpath\u001b[0m\u001b[0;34m.\u001b[0m\u001b[0msplit\u001b[0m\u001b[0;34m(\u001b[0m\u001b[0;34m'/'\u001b[0m\u001b[0;34m)\u001b[0m\u001b[0;34m)\u001b[0m\u001b[0;34m[\u001b[0m\u001b[0;34m-\u001b[0m\u001b[0;36m1\u001b[0m\u001b[0;34m]\u001b[0m\u001b[0;34m\u001b[0m\u001b[0;34m\u001b[0m\u001b[0m\n\u001b[0;32m----> 3\u001b[0;31m     \u001b[0mlabel\u001b[0m \u001b[0;34m=\u001b[0m \u001b[0mall_labels\u001b[0m\u001b[0;34m[\u001b[0m\u001b[0mlabel\u001b[0m\u001b[0;34m]\u001b[0m\u001b[0;34m\u001b[0m\u001b[0;34m\u001b[0m\u001b[0m\n\u001b[0m\u001b[1;32m      4\u001b[0m     \u001b[0mimage\u001b[0m \u001b[0;34m=\u001b[0m \u001b[0mtf\u001b[0m\u001b[0;34m.\u001b[0m\u001b[0mio\u001b[0m\u001b[0;34m.\u001b[0m\u001b[0mread_file\u001b[0m\u001b[0;34m(\u001b[0m\u001b[0mpath\u001b[0m\u001b[0;34m)\u001b[0m\u001b[0;34m\u001b[0m\u001b[0;34m\u001b[0m\u001b[0m\n\u001b[1;32m      5\u001b[0m     \u001b[0mimage\u001b[0m \u001b[0;34m=\u001b[0m \u001b[0mtf\u001b[0m\u001b[0;34m.\u001b[0m\u001b[0mimage\u001b[0m\u001b[0;34m.\u001b[0m\u001b[0mdecode_jpeg\u001b[0m\u001b[0;34m(\u001b[0m\u001b[0mimage\u001b[0m\u001b[0;34m,\u001b[0m \u001b[0mchannels\u001b[0m\u001b[0;34m=\u001b[0m\u001b[0;36m3\u001b[0m\u001b[0;34m)\u001b[0m\u001b[0;34m\u001b[0m\u001b[0;34m\u001b[0m\u001b[0m\n",
      "\u001b[0;31mNameError\u001b[0m: name 'all_labels' is not defined"
     ]
    }
   ],
   "source": [
    "# training_img = []\n",
    "# for i in TRAIN_PRE:\n",
    "#     image =  preprocess_path(i)[0]\n",
    "#     training_img.append(image)\n"
   ]
  },
  {
   "cell_type": "code",
   "execution_count": null,
   "metadata": {},
   "outputs": [],
   "source": []
  },
  {
   "cell_type": "code",
   "execution_count": null,
   "metadata": {},
   "outputs": [],
   "source": [
    "training_img[0].shape"
   ]
  },
  {
   "cell_type": "code",
   "execution_count": null,
   "metadata": {},
   "outputs": [],
   "source": [
    "train_label_len = []\n",
    "train_txt = []\n",
    "\n",
    "\n",
    "for i in train_label:\n",
    "    text_encode = encode(i)\n",
    "    train_txt.append(list(text_encode))\n",
    "    train_label_len.append(len(text_encode))\n",
    "\n",
    "len(train_label_len)"
   ]
  },
  {
   "cell_type": "code",
   "execution_count": null,
   "metadata": {},
   "outputs": [],
   "source": [
    "valid_img = []\n",
    "for i in val_path:\n",
    "    image =  preprocess_path(i)[0]\n",
    "    valid_img.append(image)"
   ]
  },
  {
   "cell_type": "code",
   "execution_count": null,
   "metadata": {},
   "outputs": [],
   "source": [
    "valid_img[1].shape"
   ]
  },
  {
   "cell_type": "code",
   "execution_count": null,
   "metadata": {},
   "outputs": [],
   "source": [
    "valid_label_len = []\n",
    "valid_txt =[]\n",
    "\n",
    "for i in val_label:\n",
    "    text_encode = encode(i)\n",
    "    valid_txt.append(list(text_encode))\n",
    "    valid_label_len.append(len(text_encode))\n",
    "\n",
    "max(valid_label_len)"
   ]
  },
  {
   "cell_type": "code",
   "execution_count": 123,
   "metadata": {},
   "outputs": [],
   "source": [
    "# import our model, different layers and activation function \n",
    "from tensorflow.keras.layers import Dense, LSTM, Reshape, BatchNormalization, Input, Conv2D, MaxPool2D, Lambda, Bidirectional\n",
    "from tensorflow.keras.models import Model\n",
    "from tensorflow.keras.activations import relu, sigmoid, softmax\n",
    "import tensorflow.keras.backend as K\n",
    "from tensorflow.keras.utils import to_categorical\n",
    "from tensorflow.keras.callbacks import ModelCheckpoint"
   ]
  },
  {
   "cell_type": "code",
   "execution_count": 165,
   "metadata": {},
   "outputs": [],
   "source": [
    "# OUR FULL MODEL OF CRNN AND LSTM\n",
    "\n",
    "# YOUR PART: TRY TO BUILD YOUR DIFFERENT TIMESTEPS AND BUILD TO DO IT, LET SAY 26 OR 32 INSTEAD OF 31 LIKE BELOW. \n",
    "def build_model(train_dir, test_dir):\n",
    "    # input with shape of height=118 and width=1875 \n",
    "    inputs = Input(shape=(120,1900,1))   # (118,1875,3)\n",
    "\n",
    "    # convolution layer with kernel size (3,3)\n",
    "    conv_1 = Conv2D(64, (3,3), activation = 'relu', padding='same')(inputs)  # (120,1900,64)\n",
    "\n",
    "    # poolig layer with kernel size (2,2) to make the height/2 and width/2  # (60,950,64)\n",
    "    pool_1 = MaxPool2D(pool_size=(2, 2), strides=2)(conv_1)\n",
    "\n",
    "    conv_2 = Conv2D(128, (3,3), activation = 'relu', padding='same')(pool_1)  # (60,950,128)\n",
    "\n",
    "    # poolig layer with kernel size (2,2) to make the height/2 and width/2   # (30,475,128)\n",
    "    pool_2 = MaxPool2D(pool_size=(2, 2), strides=2)(conv_2)\n",
    "\n",
    "    conv_3 = Conv2D(256, (3,3), activation = 'relu', padding='same')(pool_2)   # (30,475,256)\n",
    "\n",
    "    conv_4 = Conv2D(256, (3,3), activation = 'relu', padding='same')(conv_3)   # (30,475,256)\n",
    "\n",
    "    # poolig layer with kernel size (2,2) to make the height/2              # (15,95,256)\n",
    "    pool_4 = MaxPool2D(pool_size=(2, 5))(conv_4)\n",
    "\n",
    "    conv_5 = Conv2D(512, (3,3), activation = 'relu', padding='same')(pool_4)  # (15,95,512)\n",
    "\n",
    "    # Batch normalization layer\n",
    "    batch_norm_5 = BatchNormalization()(conv_5)\n",
    "\n",
    "    conv_6 = Conv2D(512, (3,3), activation = 'relu', padding='same')(batch_norm_5)  # (15,95,512)\n",
    "    batch_norm_6 = BatchNormalization()(conv_6)\n",
    "\n",
    "    # poolig layer with kernel size (2,2) to make the height/2       # (15,95,512)\n",
    "    pool_6 = MaxPool2D(pool_size=(5, 1))(batch_norm_6)\n",
    "\n",
    "    # didn't have padding = \"same\" to reduce timestep - 1 because kernel size is # (1,95,512)\n",
    "    conv_7 = Conv2D(512, (3,1), activation = 'relu')(pool_6)\n",
    "\n",
    "    # to remove the first dimension of one: (1, 95, 512) to (95, 512) \n",
    "    squeezed = Lambda(lambda x: K.squeeze(x, 1))(conv_7)\n",
    "\n",
    "    # bidirectional LSTM layers with units=95\n",
    "    blstm_1 = Bidirectional(LSTM(95, return_sequences=True, dropout = 0.2))(squeezed)\n",
    "    blstm_2 = Bidirectional(LSTM(95, return_sequences=True, dropout = 0.2))(blstm_1)\n",
    "\n",
    "    # this is our softmax character proprobility with timesteps (31, 63)\n",
    "    outputs = Dense(len(charset(train_dir, test_dir))+1, activation = 'softmax')(blstm_2)\n",
    "\n",
    "    # model to be used at test time\n",
    "\n",
    "    act_model = Model(inputs, outputs)\n",
    "    return (act_model, outputs, inputs)"
   ]
  },
  {
   "cell_type": "code",
   "execution_count": 157,
   "metadata": {},
   "outputs": [
    {
     "name": "stdout",
     "output_type": "stream",
     "text": [
      "Model: \"model_7\"\n",
      "_________________________________________________________________\n",
      "Layer (type)                 Output Shape              Param #   \n",
      "=================================================================\n",
      "input_11 (InputLayer)        [(None, 120, 1900, 1)]    0         \n",
      "_________________________________________________________________\n",
      "conv2d_70 (Conv2D)           (None, 120, 1900, 64)     640       \n",
      "_________________________________________________________________\n",
      "max_pooling2d_40 (MaxPooling (None, 60, 950, 64)       0         \n",
      "_________________________________________________________________\n",
      "conv2d_71 (Conv2D)           (None, 60, 950, 128)      73856     \n",
      "_________________________________________________________________\n",
      "max_pooling2d_41 (MaxPooling (None, 30, 475, 128)      0         \n",
      "_________________________________________________________________\n",
      "conv2d_72 (Conv2D)           (None, 30, 475, 256)      295168    \n",
      "_________________________________________________________________\n",
      "conv2d_73 (Conv2D)           (None, 30, 475, 256)      590080    \n",
      "_________________________________________________________________\n",
      "max_pooling2d_42 (MaxPooling (None, 15, 95, 256)       0         \n",
      "_________________________________________________________________\n",
      "conv2d_74 (Conv2D)           (None, 15, 95, 512)       1180160   \n",
      "_________________________________________________________________\n",
      "batch_normalization_20 (Batc (None, 15, 95, 512)       2048      \n",
      "_________________________________________________________________\n",
      "conv2d_75 (Conv2D)           (None, 15, 95, 512)       2359808   \n",
      "_________________________________________________________________\n",
      "batch_normalization_21 (Batc (None, 15, 95, 512)       2048      \n",
      "_________________________________________________________________\n",
      "max_pooling2d_43 (MaxPooling (None, 3, 95, 512)        0         \n",
      "_________________________________________________________________\n",
      "conv2d_76 (Conv2D)           (None, 1, 95, 512)        786944    \n",
      "_________________________________________________________________\n",
      "lambda_10 (Lambda)           (None, 95, 512)           0         \n",
      "_________________________________________________________________\n",
      "bidirectional_18 (Bidirectio (None, 95, 190)           462080    \n",
      "_________________________________________________________________\n",
      "bidirectional_19 (Bidirectio (None, 95, 190)           217360    \n",
      "_________________________________________________________________\n",
      "dense_7 (Dense)              (None, 95, 141)           26931     \n",
      "=================================================================\n",
      "Total params: 5,997,123\n",
      "Trainable params: 5,995,075\n",
      "Non-trainable params: 2,048\n",
      "_________________________________________________________________\n"
     ]
    }
   ],
   "source": [
    "act_model.summary()"
   ]
  },
  {
   "cell_type": "code",
   "execution_count": 170,
   "metadata": {},
   "outputs": [],
   "source": [
    "def ctc_lambda_func(args):\n",
    "    y_pred, labels, input_length, label_length = args\n",
    "    \"\"\"\n",
    "    labels: tensor (number of samples, max_string_length) containing the truth labels.\n",
    "    y_pred: tensor (number of samples, time_steps, num_character_labels) containing the prediction, or output of the softmax.\n",
    "    input_length: tensor (number of samples, 1) containing the sequence length for each batch item in y_pred.\n",
    "    label_length: tensor (number of samples, 1) containing the sequence length for each batch item in y_true.\n",
    "    \"\"\"\n",
    "    return K.ctc_batch_cost(labels, y_pred, input_length, label_length)\n",
    "\n",
    "def ctc_layer(outputs, inputs):\n",
    "    max_label_len = 70\n",
    "\n",
    "    # define the label input shape for ctc\n",
    "    labels = Input(name='the_labels', shape=[max_label_len], dtype='float32')\n",
    "\n",
    "    # define a ctc lambda function to take arguments and return ctc_bach_cost\n",
    "    # define the length of input and label for ctc\n",
    "    input_length = Input(name='input_length', shape=[1], dtype='int64')\n",
    "    label_length = Input(name='label_length', shape=[1], dtype='int64')\n",
    "    \n",
    "    # out loss function (just take the inputs and put it in our ctc_batch_cost)\n",
    "    loss_out = Lambda(ctc_lambda_func, output_shape=(1,), name='ctc')([outputs, labels, input_length, label_length])\n",
    "\n",
    "    #model to be used at training time\n",
    "    model = Model(inputs=[inputs, labels, input_length, label_length], outputs=loss_out)\n",
    "    model.compile(loss={'ctc': lambda y_true, y_pred: y_pred}, optimizer = 'adam')\n",
    "    return model\n",
    "\n"
   ]
  },
  {
   "cell_type": "code",
   "execution_count": 167,
   "metadata": {},
   "outputs": [
    {
     "name": "stdout",
     "output_type": "stream",
     "text": [
      "No .ipynb_checkpoints to remove\n",
      "No .ipynb_checkpoints to remove\n"
     ]
    }
   ],
   "source": [
    "model, outputs, inputs = build_model(TRAIN_DIR, TEST_DIR)"
   ]
  },
  {
   "cell_type": "code",
   "execution_count": 171,
   "metadata": {},
   "outputs": [],
   "source": [
    "model = ctc_layer(outputs, inputs)"
   ]
  },
  {
   "cell_type": "code",
   "execution_count": 172,
   "metadata": {},
   "outputs": [
    {
     "name": "stdout",
     "output_type": "stream",
     "text": [
      "Model: \"model_17\"\n",
      "__________________________________________________________________________________________________\n",
      "Layer (type)                    Output Shape         Param #     Connected to                     \n",
      "==================================================================================================\n",
      "input_15 (InputLayer)           [(None, 120, 1900, 1 0                                            \n",
      "__________________________________________________________________________________________________\n",
      "conv2d_98 (Conv2D)              (None, 120, 1900, 64 640         input_15[0][0]                   \n",
      "__________________________________________________________________________________________________\n",
      "max_pooling2d_56 (MaxPooling2D) (None, 60, 950, 64)  0           conv2d_98[0][0]                  \n",
      "__________________________________________________________________________________________________\n",
      "conv2d_99 (Conv2D)              (None, 60, 950, 128) 73856       max_pooling2d_56[0][0]           \n",
      "__________________________________________________________________________________________________\n",
      "max_pooling2d_57 (MaxPooling2D) (None, 30, 475, 128) 0           conv2d_99[0][0]                  \n",
      "__________________________________________________________________________________________________\n",
      "conv2d_100 (Conv2D)             (None, 30, 475, 256) 295168      max_pooling2d_57[0][0]           \n",
      "__________________________________________________________________________________________________\n",
      "conv2d_101 (Conv2D)             (None, 30, 475, 256) 590080      conv2d_100[0][0]                 \n",
      "__________________________________________________________________________________________________\n",
      "max_pooling2d_58 (MaxPooling2D) (None, 15, 95, 256)  0           conv2d_101[0][0]                 \n",
      "__________________________________________________________________________________________________\n",
      "conv2d_102 (Conv2D)             (None, 15, 95, 512)  1180160     max_pooling2d_58[0][0]           \n",
      "__________________________________________________________________________________________________\n",
      "batch_normalization_28 (BatchNo (None, 15, 95, 512)  2048        conv2d_102[0][0]                 \n",
      "__________________________________________________________________________________________________\n",
      "conv2d_103 (Conv2D)             (None, 15, 95, 512)  2359808     batch_normalization_28[0][0]     \n",
      "__________________________________________________________________________________________________\n",
      "batch_normalization_29 (BatchNo (None, 15, 95, 512)  2048        conv2d_103[0][0]                 \n",
      "__________________________________________________________________________________________________\n",
      "max_pooling2d_59 (MaxPooling2D) (None, 3, 95, 512)   0           batch_normalization_29[0][0]     \n",
      "__________________________________________________________________________________________________\n",
      "conv2d_104 (Conv2D)             (None, 1, 95, 512)   786944      max_pooling2d_59[0][0]           \n",
      "__________________________________________________________________________________________________\n",
      "lambda_14 (Lambda)              (None, 95, 512)      0           conv2d_104[0][0]                 \n",
      "__________________________________________________________________________________________________\n",
      "bidirectional_26 (Bidirectional (None, 95, 190)      462080      lambda_14[0][0]                  \n",
      "__________________________________________________________________________________________________\n",
      "bidirectional_27 (Bidirectional (None, 95, 190)      217360      bidirectional_26[0][0]           \n",
      "__________________________________________________________________________________________________\n",
      "dense_11 (Dense)                (None, 95, 141)      26931       bidirectional_27[0][0]           \n",
      "__________________________________________________________________________________________________\n",
      "the_labels (InputLayer)         [(None, 70)]         0                                            \n",
      "__________________________________________________________________________________________________\n",
      "input_length (InputLayer)       [(None, 1)]          0                                            \n",
      "__________________________________________________________________________________________________\n",
      "label_length (InputLayer)       [(None, 1)]          0                                            \n",
      "__________________________________________________________________________________________________\n",
      "ctc (Lambda)                    (None, 1)            0           dense_11[0][0]                   \n",
      "                                                                 the_labels[0][0]                 \n",
      "                                                                 input_length[0][0]               \n",
      "                                                                 label_length[0][0]               \n",
      "==================================================================================================\n",
      "Total params: 5,997,123\n",
      "Trainable params: 5,995,075\n",
      "Non-trainable params: 2,048\n",
      "__________________________________________________________________________________________________\n"
     ]
    }
   ],
   "source": [
    "model.summary()"
   ]
  },
  {
   "cell_type": "code",
   "execution_count": 175,
   "metadata": {},
   "outputs": [],
   "source": [
    "# ready ctc loss function and optimizersval\n",
    "\n",
    "\n",
    "# ready out check point save file\n",
    "def define_checkpoint(checkpoint_name):\n",
    "    filepath=checkpoint_name\n",
    "    checkpoint = ModelCheckpoint(filepath=filepath, monitor='val_loss', verbose=1, save_best_only=False, mode='auto')\n",
    "    callbacks_list = [checkpoint]\n",
    "    return callbacks_list"
   ]
  },
  {
   "cell_type": "code",
   "execution_count": 176,
   "metadata": {},
   "outputs": [],
   "source": [
    "callbacks_list = define_checkpoint(\"Khanh.hdf5\")"
   ]
  },
  {
   "cell_type": "code",
   "execution_count": 177,
   "metadata": {},
   "outputs": [],
   "source": [
    "def pad(sequence):\n",
    "    MAXLEN = 70\n",
    "    sequence = list(sequence)\n",
    "    sequence = tf.keras.preprocessing.sequence.pad_sequences(sequence, maxlen=MAXLEN, padding='post')\n",
    "    \n",
    "    return sequence"
   ]
  },
  {
   "cell_type": "code",
   "execution_count": 178,
   "metadata": {},
   "outputs": [
    {
     "ename": "NameError",
     "evalue": "name 'train_txt' is not defined",
     "output_type": "error",
     "traceback": [
      "\u001b[0;31m---------------------------------------------------------------------------\u001b[0m",
      "\u001b[0;31mNameError\u001b[0m                                 Traceback (most recent call last)",
      "\u001b[0;32m<ipython-input-178-0982a085e9bd>\u001b[0m in \u001b[0;36m<module>\u001b[0;34m\u001b[0m\n\u001b[1;32m      1\u001b[0m \u001b[0;31m# ready our training data\u001b[0m\u001b[0;34m\u001b[0m\u001b[0;34m\u001b[0m\u001b[0;34m\u001b[0m\u001b[0m\n\u001b[1;32m      2\u001b[0m \u001b[0mtraining_img\u001b[0m \u001b[0;34m=\u001b[0m \u001b[0mnp\u001b[0m\u001b[0;34m.\u001b[0m\u001b[0marray\u001b[0m\u001b[0;34m(\u001b[0m\u001b[0mtraining_img\u001b[0m\u001b[0;34m)\u001b[0m\u001b[0;34m\u001b[0m\u001b[0;34m\u001b[0m\u001b[0m\n\u001b[0;32m----> 3\u001b[0;31m \u001b[0mtrain_padded_txt\u001b[0m \u001b[0;34m=\u001b[0m \u001b[0mpad\u001b[0m\u001b[0;34m(\u001b[0m\u001b[0mtrain_txt\u001b[0m\u001b[0;34m)\u001b[0m\u001b[0;34m\u001b[0m\u001b[0;34m\u001b[0m\u001b[0m\n\u001b[0m\u001b[1;32m      4\u001b[0m \u001b[0mtrain_input_len\u001b[0m \u001b[0;34m=\u001b[0m \u001b[0mnp\u001b[0m\u001b[0;34m.\u001b[0m\u001b[0mones\u001b[0m\u001b[0;34m(\u001b[0m\u001b[0mlen\u001b[0m\u001b[0;34m(\u001b[0m\u001b[0mtraining_img\u001b[0m\u001b[0;34m)\u001b[0m\u001b[0;34m)\u001b[0m\u001b[0;34m*\u001b[0m\u001b[0;36m95\u001b[0m  \u001b[0;31m# must be equal length to T timesteps = 95\u001b[0m\u001b[0;34m\u001b[0m\u001b[0;34m\u001b[0m\u001b[0m\n\u001b[1;32m      5\u001b[0m \u001b[0mtrain_label_len\u001b[0m \u001b[0;34m=\u001b[0m \u001b[0mnp\u001b[0m\u001b[0;34m.\u001b[0m\u001b[0marray\u001b[0m\u001b[0;34m(\u001b[0m\u001b[0mtrain_label_len\u001b[0m\u001b[0;34m)\u001b[0m  \u001b[0;31m# different length\u001b[0m\u001b[0;34m\u001b[0m\u001b[0;34m\u001b[0m\u001b[0m\n",
      "\u001b[0;31mNameError\u001b[0m: name 'train_txt' is not defined"
     ]
    }
   ],
   "source": [
    "# ready our training data\n",
    "training_img = np.array(training_img)\n",
    "train_padded_txt = pad(train_txt)\n",
    "train_input_len = np.ones(len(training_img))*95  # must be equal length to T timesteps = 95\n",
    "train_label_len = np.array(train_label_len)  # different length\n",
    "\n",
    "\n",
    "# ready our test data\n",
    "valid_img = np.array(valid_img)\n",
    "valid_padded_txt = pad(valid_txt)\n",
    "valid_input_len = np.ones(len(valid_img))*95 # must be equal length to T timesteps = 95\n",
    "valid_label_len = np.array(valid_label_len) # different length"
   ]
  },
  {
   "cell_type": "code",
   "execution_count": null,
   "metadata": {},
   "outputs": [],
   "source": [
    "# choose batchsize and epochs\n",
    "batch_size = 32\n",
    "epochs = 10\n",
    "model.fit(x=[training_img, train_padded_txt, train_input_len, train_label_len], \n",
    "          y=np.zeros(len(training_img)), \n",
    "          batch_size=batch_size, \n",
    "          epochs = epochs, \n",
    "          validation_data = ([valid_img, valid_padded_txt, valid_input_len, valid_label_len], [np.zeros(len(valid_img))]), \n",
    "          verbose = 1, \n",
    "          callbacks = callbacks_list)"
   ]
  },
  {
   "cell_type": "code",
   "execution_count": null,
   "metadata": {},
   "outputs": [],
   "source": [
    "# save our model\n",
    "# model.save('Khanh.h5')"
   ]
  },
  {
   "cell_type": "code",
   "execution_count": null,
   "metadata": {},
   "outputs": [],
   "source": [
    "def prediction(valid_img):\n",
    "    # load the saved best model weights\n",
    "    act_model.load_weights('Khanh.hdf5')\n",
    "\n",
    "    # predict outputs on validation images\n",
    "    prediction = act_model.predict(valid_img)\n",
    "    \n",
    "    return prediction"
   ]
  },
  {
   "cell_type": "code",
   "execution_count": null,
   "metadata": {},
   "outputs": [],
   "source": [
    "def ctc_decoder(prediction, val_label, charset):\n",
    "    # use CTC decoder\n",
    "    out = K.get_value(K.ctc_decode(prediction, input_length=np.ones(prediction.shape[0])*prediction.shape[1],\n",
    "                             greedy=True)[0][0])\n",
    "\n",
    "    # see the results\n",
    "    i = 0\n",
    "    for x in out:\n",
    "        print(\"original_text =  \", val_label[i])\n",
    "        print(\"predicted text = \", end = '')\n",
    "        for p in x:  \n",
    "            if int(p) != -1:\n",
    "                print(charset[int(p)], end = '')       \n",
    "        print('\\n')\n",
    "        i+=1"
   ]
  }
 ],
 "metadata": {
  "kernelspec": {
   "display_name": "Python 3",
   "language": "python",
   "name": "python3"
  },
  "language_info": {
   "codemirror_mode": {
    "name": "ipython",
    "version": 3
   },
   "file_extension": ".py",
   "mimetype": "text/x-python",
   "name": "python",
   "nbconvert_exporter": "python",
   "pygments_lexer": "ipython3",
   "version": "3.7.3"
  },
  "toc": {
   "base_numbering": 1,
   "nav_menu": {},
   "number_sections": true,
   "sideBar": true,
   "skip_h1_title": false,
   "title_cell": "Table of Contents",
   "title_sidebar": "Contents",
   "toc_cell": false,
   "toc_position": {},
   "toc_section_display": true,
   "toc_window_display": false
  }
 },
 "nbformat": 4,
 "nbformat_minor": 4
}
