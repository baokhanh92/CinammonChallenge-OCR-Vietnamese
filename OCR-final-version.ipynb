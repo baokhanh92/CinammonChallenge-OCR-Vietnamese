{
 "cells": [
  {
   "cell_type": "code",
   "execution_count": 1,
   "metadata": {},
   "outputs": [],
   "source": [
    "# !unzip 2.zip"
   ]
  },
  {
   "cell_type": "code",
   "execution_count": 8,
   "metadata": {},
   "outputs": [],
   "source": [
    "import cv2\n",
    "\n",
    "import numpy as np\n",
    "import matplotlib.pyplot as plt\n",
    "\n",
    "import tensorflow as tf\n",
    "from tensorflow.keras.models import Model\n",
    "import tensorflow_datasets as tfds\n",
    "from tensorflow.keras.preprocessing.sequence import pad_sequences\n",
    "# import preprocess as prep\n",
    "import h5py\n",
    "import unicodedata\n",
    "import json\n",
    "\n",
    "%matplotlib inline"
   ]
  },
  {
   "cell_type": "code",
   "execution_count": 9,
   "metadata": {},
   "outputs": [],
   "source": [
    "import pathlib\n",
    "import glob\n",
    "import os\n",
    "import shutil"
   ]
  },
  {
   "cell_type": "code",
   "execution_count": 4,
   "metadata": {},
   "outputs": [],
   "source": [
    "# !sudo pip install mahotas"
   ]
  },
  {
   "cell_type": "code",
   "execution_count": 10,
   "metadata": {},
   "outputs": [],
   "source": [
    "import imutils\n",
    "import mahotas"
   ]
  },
  {
   "cell_type": "code",
   "execution_count": 11,
   "metadata": {},
   "outputs": [],
   "source": [
    "ROOT ='./Data'\n",
    "TRAIN_DIR = os.path.join(ROOT, '0916_Data Samples 2-20200109T093136Z-001')\n",
    "TEST_DIR = os.path.join(ROOT, '0825_DataSamples 1')\n",
    "TRAIN_PRE = os.path.join(ROOT, 'Train')\n",
    "# os.mkdir(TRAIN_DIR)\n",
    "# os.mkdir(TEST_DIR)"
   ]
  },
  {
   "cell_type": "code",
   "execution_count": 12,
   "metadata": {},
   "outputs": [],
   "source": [
    "path = pathlib.Path(TRAIN_DIR, '')\n",
    "\n",
    "all_file_path = path.rglob('*/*')\n",
    "all_file_path = list(all_file_path)\n",
    "all_file_path = [str(path) for path in list(all_file_path)]"
   ]
  },
  {
   "cell_type": "code",
   "execution_count": 13,
   "metadata": {},
   "outputs": [
    {
     "data": {
      "text/plain": [
       "1479"
      ]
     },
     "execution_count": 13,
     "metadata": {},
     "output_type": "execute_result"
    }
   ],
   "source": [
    "len(all_file_path)"
   ]
  },
  {
   "cell_type": "code",
   "execution_count": 14,
   "metadata": {},
   "outputs": [],
   "source": [
    "# all_file_path = [path for path in all_file_path if os.path.isfile(path)] "
   ]
  },
  {
   "cell_type": "code",
   "execution_count": 15,
   "metadata": {},
   "outputs": [
    {
     "name": "stdout",
     "output_type": "stream",
     "text": [
      "1477\n"
     ]
    },
    {
     "data": {
      "text/plain": [
       "['Data/0916_Data Samples 2-20200109T093136Z-001/0916_Data Samples 2/1212_samples.png',\n",
       " 'Data/0916_Data Samples 2-20200109T093136Z-001/0916_Data Samples 2/1118_samples.png',\n",
       " 'Data/0916_Data Samples 2-20200109T093136Z-001/0916_Data Samples 2/1644_samples.png',\n",
       " 'Data/0916_Data Samples 2-20200109T093136Z-001/0916_Data Samples 2/1807_samples.png',\n",
       " 'Data/0916_Data Samples 2-20200109T093136Z-001/0916_Data Samples 2/0531_samples.png']"
      ]
     },
     "execution_count": 15,
     "metadata": {},
     "output_type": "execute_result"
    }
   ],
   "source": [
    "# To remove any file is not image\n",
    "all_file_path = [m for m in all_file_path if m.lower().endswith(('.png', '.jpg', '.jpeg'))]\n",
    "print(len(all_file_path))\n",
    "all_file_path[:5]"
   ]
  },
  {
   "cell_type": "code",
   "execution_count": 16,
   "metadata": {},
   "outputs": [],
   "source": [
    "# print(len(all_file_path_new))\n",
    "# for i in all_file_path:\n",
    "#     if i not in all_file_path_new:\n",
    "#         print(i)"
   ]
  },
  {
   "cell_type": "code",
   "execution_count": 17,
   "metadata": {},
   "outputs": [],
   "source": [
    "# # Testing processing img with only one img for saving time\n",
    "# import random\n",
    "# random.seed(42)\n",
    "\n",
    "# test_image = random.choice(all_file_path)\n",
    "# test_image\n",
    "\n",
    "# # shutil.copy(test_image, str(TRAIN_DIR))"
   ]
  },
  {
   "cell_type": "code",
   "execution_count": 18,
   "metadata": {},
   "outputs": [],
   "source": [
    "def _get_data(type_):\n",
    "    ''' Build tf dataset form already repreocessing file'''\n",
    "    data_path = os.path.join('.', 'Data', '{}.hdf5'.format(type_))\n",
    "    dataset = dict()\n",
    "    with h5py.File(data_path, 'r') as f:\n",
    "        dataset['image'] = f['image'][:]\n",
    "        dataset['label'] = f['label'][:]\n",
    "        \n",
    "        size = len(dataset['label'])\n",
    "        dataset['label'] = [x.decode() for x in dataset['label']]\n",
    "        \n",
    "        return dataset, size"
   ]
  },
  {
   "cell_type": "code",
   "execution_count": 19,
   "metadata": {},
   "outputs": [],
   "source": [
    "def get_label(path):\n",
    "    labels = json.load(open(os.path.join(path, 'labels.json')))\n",
    "    return labels\n",
    "\n",
    "all_labels = get_label(TRAIN_DIR)\n",
    "# lables = json.load(open(os.path.join('.', 'Data', '{}.json'.format('labels'))))"
   ]
  },
  {
   "cell_type": "code",
   "execution_count": 20,
   "metadata": {},
   "outputs": [
    {
     "data": {
      "text/plain": [
       "1476"
      ]
     },
     "execution_count": 20,
     "metadata": {},
     "output_type": "execute_result"
    }
   ],
   "source": [
    "all_img_labels = []\n",
    "\n",
    "for i in all_file_path:\n",
    "    key = i.split('/')[-1]\n",
    "    if key in all_labels:\n",
    "        all_img_labels.append(all_labels[key])\n",
    "\n",
    "len(all_img_labels)"
   ]
  },
  {
   "cell_type": "code",
   "execution_count": 21,
   "metadata": {},
   "outputs": [
    {
     "data": {
      "text/plain": [
       "['Data/0916_Data Samples 2-20200109T093136Z-001/0916_Data Samples 2/.ipynb_checkpoints/0000_samples-checkpoint.png']"
      ]
     },
     "execution_count": 21,
     "metadata": {},
     "output_type": "execute_result"
    }
   ],
   "source": [
    "remove_path = []\n",
    "for i in all_file_path:\n",
    "    key = i.split('/')[-1]\n",
    "    if key not in all_labels:\n",
    "        remove_path.append(i)\n",
    "        \n",
    "remove_path"
   ]
  },
  {
   "cell_type": "code",
   "execution_count": 22,
   "metadata": {},
   "outputs": [],
   "source": [
    "for i in remove_path:\n",
    "    all_file_path.remove(i)"
   ]
  },
  {
   "cell_type": "code",
   "execution_count": 23,
   "metadata": {},
   "outputs": [],
   "source": [
    "assert len(all_img_labels) == len(all_file_path)"
   ]
  },
  {
   "cell_type": "code",
   "execution_count": 24,
   "metadata": {},
   "outputs": [
    {
     "data": {
      "text/plain": [
       "<function matplotlib.pyplot.show(*args, **kw)>"
      ]
     },
     "execution_count": 24,
     "metadata": {},
     "output_type": "execute_result"
    },
    {
     "data": {
      "image/png": "[encoded data removed]",
      "text/plain": [
       "<Figure size 432x288 with 1 Axes>"
      ]
     },
     "metadata": {
      "needs_background": "light"
     },
     "output_type": "display_data"
    }
   ],
   "source": [
    "import random\n",
    "random.seed(42)\n",
    "\n",
    "test_imge = random.choice(all_file_path)\n",
    "image = cv2.imread(test_imge)           \n",
    "plt.imshow(image)\n",
    "plt.show\n",
    "\n",
    "# r = image.shape[1] // image.shape[0]\n",
    "# dim = (500*r, 500)\n",
    "# resize = cv2.resize(image, dim)\n",
    "# print(resize.shape)"
   ]
  },
  {
   "cell_type": "code",
   "execution_count": 25,
   "metadata": {},
   "outputs": [],
   "source": [
    "res = []\n",
    "\n",
    "for label in all_img_labels:\n",
    "    for word in label:\n",
    "        if word not in res:\n",
    "            res.append(word)"
   ]
  },
  {
   "cell_type": "code",
   "execution_count": 26,
   "metadata": {},
   "outputs": [
    {
     "data": {
      "text/plain": [
       "['Up coworking Space, 89 Láng Hạ, Hà Nội',\n",
       " 'Số 30 Nguyên Hồng, Láng Hạ, Đống Đa, Hà Nội',\n",
       " '58 Thái Thịnh, Đống Đa, Hà Nội',\n",
       " '192 Ngô Đức Kế, quận 1, Hồ Chí Minh',\n",
       " 'Số 370/8 khu phố 5B, phường Tân Biên, Biên Hòa, Đồng Nai',\n",
       " '168 Ngô Gia Tự, thành phố Hà Tĩnh',\n",
       " 'phòng 101, tầng 1, lô 04-TT5B, khu đô thị Tây Nam Linh Đàm',\n",
       " 'số 5 Công Trường Mê Linh, phường Bến Nghé, quận 1',\n",
       " 'Số 3 Nguyễn Ngọc Vũ, Hà Nội',\n",
       " '90A đường Mai Xuân Thưởng, tỉnh Gia Lai',\n",
       " 'Tòa nhà 34T, Hoàng Đạo Thúy, Hà Nội',\n",
       " 'Nhà 87 ngõ 416 Đê La Thành',\n",
       " 'Vĩnh Trung Plaza, B, 255-257 đường Hùng Vương, phường Vĩnh Trung',\n",
       " '96/7/12B Phạm Văn Đồng, thành phố Pleiku',\n",
       " '40 Cát Linh, Đống Đa, Hà Nội']"
      ]
     },
     "execution_count": 26,
     "metadata": {},
     "output_type": "execute_result"
    }
   ],
   "source": [
    "test_label = []\n",
    "\n",
    "for key in get_label(TEST_DIR):\n",
    "    value = get_label(TEST_DIR)[key]\n",
    "    test_label.append(value)\n",
    "\n",
    "test_label"
   ]
  },
  {
   "cell_type": "code",
   "execution_count": 27,
   "metadata": {},
   "outputs": [],
   "source": [
    "test_res = []\n",
    "\n",
    "for label in test_label:\n",
    "    for word in label:\n",
    "        if word not in test_res:\n",
    "            test_res.append(word)\n",
    "\n",
    "test_char = ''.join(sorted(test_res))\n"
   ]
  },
  {
   "cell_type": "code",
   "execution_count": 30,
   "metadata": {},
   "outputs": [
    {
     "name": "stdout",
     "output_type": "stream",
     "text": [
      "139  #'()+,-./0123456789ABCDEFGHIJKLMNOPQRSTUVWXYabcdeghiklmnopqrstuvwxyzÂÊÔàáâãèéêìíòóôõùúýăĐđĩũƠơưạảấầẩậắằẵặẻẽếềểễệỉịọỏốồổỗộớờởỡợụủỨứừửữựỳỵỷỹ\n"
     ]
    }
   ],
   "source": [
    "for i in test_res:\n",
    "    if i not in res:\n",
    "        res.append(i)\n",
    "\n",
    "charset = ''.join(sorted(res))\n",
    "print( len(charset), charset)"
   ]
  },
  {
   "cell_type": "code",
   "execution_count": 31,
   "metadata": {},
   "outputs": [
    {
     "name": "stdout",
     "output_type": "stream",
     "text": [
      "140\n"
     ]
    }
   ],
   "source": [
    "a = '#()+,-./:0123456789ABCDEFGHIJKLMNOPQRSTUVWXYabcdeghiklmnopqrstwuvxyzÂÊÔàáâãèéêẹìíòóôõùúýăĐđĩũƠơưạảấầẩẫậắằẵặẻẽếềểễệỉịọỏốồổỗộớờởỡợụủỨứừửữựỳỵỷỹ'\n",
    "print(len(a))"
   ]
  },
  {
   "cell_type": "code",
   "execution_count": 32,
   "metadata": {},
   "outputs": [
    {
     "data": {
      "text/plain": [
       "array([' ', '#', \"'\", '(', ')', '+', ',', '-', '.', '/', '0', '1', '2',\n",
       "       '3', '4', '5', '6', '7', '8', '9', 'A', 'B', 'C', 'D', 'E', 'F',\n",
       "       'G', 'H', 'I', 'J', 'K', 'L', 'M', 'N', 'O', 'P', 'Q', 'R', 'S',\n",
       "       'T', 'U', 'V', 'W', 'X', 'Y', 'a', 'b', 'c', 'd', 'e', 'g', 'h',\n",
       "       'i', 'k', 'l', 'm', 'n', 'o', 'p', 'q', 'r', 's', 't', 'u', 'v',\n",
       "       'w', 'x', 'y', 'z', 'Â', 'Ê', 'Ô', 'à', 'á', 'â', 'ã', 'è', 'é',\n",
       "       'ê', 'ì', 'í', 'ò', 'ó', 'ô', 'õ', 'ù', 'ú', 'ý', 'ă', 'Đ', 'đ',\n",
       "       'ĩ', 'ũ', 'Ơ', 'ơ', 'ư', 'ạ', 'ả', 'ấ', 'ầ', 'ẩ', 'ậ', 'ắ', 'ằ',\n",
       "       'ẵ', 'ặ', 'ẻ', 'ẽ', 'ế', 'ề', 'ể', 'ễ', 'ệ', 'ỉ', 'ị', 'ọ', 'ỏ',\n",
       "       'ố', 'ồ', 'ổ', 'ỗ', 'ộ', 'ớ', 'ờ', 'ở', 'ỡ', 'ợ', 'ụ', 'ủ', 'Ứ',\n",
       "       'ứ', 'ừ', 'ử', 'ữ', 'ự', 'ỳ', 'ỵ', 'ỷ', 'ỹ'], dtype='<U1')"
      ]
     },
     "execution_count": 32,
     "metadata": {},
     "output_type": "execute_result"
    }
   ],
   "source": [
    "char2text = {values: key for key, values in enumerate(charset)}\n",
    "char_array = np.array(sorted(charset))\n",
    "char_array"
   ]
  },
  {
   "cell_type": "code",
   "execution_count": 33,
   "metadata": {},
   "outputs": [
    {
     "name": "stdout",
     "output_type": "stream",
     "text": [
      "Thôn Trung Thành, Xã Đông Động, Huyện Đông Hưng, Thái Bình encoding [39, 51, 83, 56, 0, 39, 60, 63, 56, 50, 0, 39, 51, 72, 56, 51, 6, 0, 43, 75, 0, 89, 83, 56, 50, 0, 89, 121, 56, 50, 6, 0, 27, 63, 67, 112, 56, 0, 89, 83, 56, 50, 0, 27, 95, 56, 50, 6, 0, 39, 51, 73, 52, 0, 21, 79, 56, 51]\n"
     ]
    }
   ],
   "source": [
    "text = all_img_labels[0]\n",
    "text_encode = [char2text.get(x) for x in text]\n",
    "print(text, 'encoding', text_encode)"
   ]
  },
  {
   "cell_type": "code",
   "execution_count": 34,
   "metadata": {},
   "outputs": [],
   "source": [
    "def encode(text): \n",
    "    encode = [char2text.get(x) for x in text]\n",
    "    return np.asarray(encode, dtype=np.int32)\n",
    "\n",
    "def decode(text_encode):\n",
    "    decode = ''.join([char_array[x] for x in text_encode])\n",
    "    return decode"
   ]
  },
  {
   "cell_type": "code",
   "execution_count": 35,
   "metadata": {},
   "outputs": [
    {
     "name": "stdout",
     "output_type": "stream",
     "text": [
      "[ 39  51  83  56   0  39  60  63  56  50   0  39  51  72  56  51   6   0\n",
      "  43  75   0  89  83  56  50   0  89 121  56  50   6   0  27  63  67 112\n",
      "  56   0  89  83  56  50   0  27  95  56  50   6   0  39  51  73  52   0\n",
      "  21  79  56  51]\n"
     ]
    }
   ],
   "source": [
    "text_encode = encode(text)\n",
    "decode = decode(text_encode)\n",
    "print(text_encode)"
   ]
  },
  {
   "cell_type": "code",
   "execution_count": 29,
   "metadata": {},
   "outputs": [],
   "source": [
    "# for i in all_img_labels:\n",
    "#     for word in i:\n",
    "#         encode = char2text.get(word)\n",
    "#         print(encode)"
   ]
  },
  {
   "cell_type": "markdown",
   "metadata": {},
   "source": [
    "### PREPROCESSING"
   ]
  },
  {
   "cell_type": "code",
   "execution_count": 58,
   "metadata": {},
   "outputs": [],
   "source": [
    "def preprocess_first(img_path):\n",
    "    image = cv2.imread(img_path)\n",
    "    gray = cv2.cvtColor(image, cv2.COLOR_BGR2GRAY)\n",
    "    blurred = cv2.GaussianBlur(gray, (11,11), 0)\n",
    "    edged = cv2.adaptiveThreshold(blurred, 255, cv2.ADAPTIVE_THRESH_MEAN_C, cv2.THRESH_BINARY_INV, 11, 5)\n",
    "    return edged\n"
   ]
  },
  {
   "cell_type": "code",
   "execution_count": 59,
   "metadata": {},
   "outputs": [],
   "source": [
    "def resize(image):\n",
    "        return cv2.resize(image, dsize=(1900, 120))\n"
   ]
  },
  {
   "cell_type": "code",
   "execution_count": 60,
   "metadata": {},
   "outputs": [],
   "source": [
    "# def remove_cursive_style(img):\n",
    "#     \"\"\"Remove cursive writing style from image with deslanting algorithm\"\"\"\n",
    "\n",
    "#     def calc_y_alpha(vec):\n",
    "#         indices = np.where(vec > 0)[0]\n",
    "#         h_alpha = len(indices)\n",
    "\n",
    "#         if h_alpha > 0:\n",
    "#             delta_y_alpha = indices[h_alpha - 1] - indices[0] + 1\n",
    "\n",
    "#             if h_alpha == delta_y_alpha:\n",
    "#                 return h_alpha * h_alpha\n",
    "#         return 0\n",
    "\n",
    "#     alpha_vals = [-1.0, -0.75, -0.5, -0.25, 0.0, 0.25, 0.5, 0.75, 1.0]\n",
    "#     rows, cols = img.shape[:2]\n",
    "#     results = []\n",
    "\n",
    "#     ret, otsu = cv2.threshold(img, 0, 255, cv2.THRESH_BINARY + cv2.THRESH_OTSU)\n",
    "#     binary = otsu if ret < 127 else sauvola(img, (int(img.shape[0] / 2), int(img.shape[0] / 2)), 127, 1e-2)\n",
    "\n",
    "#     for alpha in alpha_vals:\n",
    "#         shift_x = max(-alpha * rows, 0.)\n",
    "#         size = (cols + int(np.ceil(abs(alpha * rows))), rows)\n",
    "#         transform = np.asarray([[1, alpha, shift_x], [0, 1, 0]], dtype=np.float)\n",
    "\n",
    "#         shear_img = cv2.warpAffine(binary, transform, size, cv2.INTER_NEAREST)\n",
    "#         sum_alpha = 0\n",
    "#         sum_alpha += np.apply_along_axis(calc_y_alpha, 0, shear_img)\n",
    "#         results.append([np.sum(sum_alpha), size, transform])\n",
    "\n",
    "#     result = sorted(results, key=lambda x: x[0], reverse=True)[0]\n",
    "#     warp = cv2.warpAffine(img, result[2], result[1], borderValue=255)\n",
    "\n",
    "#     return cv2.resize(warp, dsize=(1900, 120))"
   ]
  },
  {
   "cell_type": "code",
   "execution_count": 64,
   "metadata": {},
   "outputs": [
    {
     "name": "stdout",
     "output_type": "stream",
     "text": [
      "(120, 1900) (102, 1854)\n"
     ]
    },
    {
     "data": {
      "image/png": "[encoded data removed]",
      "text/plain": [
       "<Figure size 1440x720 with 1 Axes>"
      ]
     },
     "metadata": {
      "needs_background": "light"
     },
     "output_type": "display_data"
    }
   ],
   "source": [
    "plt.figure(figsize=(20,10))\n",
    "# test_path = './Data/0916_Data Samples 2-20200109T093136Z-001/0916_Data Samples 2/0000_samples.png'\n",
    "test_img = preprocess_first(all_file_path[0])\n",
    "re = resize(test_img)\n",
    "plt.imshow(re)\n",
    "\n",
    "print(re.shape, test_img.shape)"
   ]
  },
  {
   "cell_type": "code",
   "execution_count": 56,
   "metadata": {},
   "outputs": [
    {
     "data": {
      "text/plain": [
       "(120, 1900, 3)"
      ]
     },
     "execution_count": 56,
     "metadata": {},
     "output_type": "execute_result"
    },
    {
     "data": {
      "image/png": "[encoded data removed]",
      "text/plain": [
       "<Figure size 432x288 with 1 Axes>"
      ]
     },
     "metadata": {
      "needs_background": "light"
     },
     "output_type": "display_data"
    }
   ],
   "source": [
    "re = \n",
    "\n",
    "plt.imshow(re)\n"
   ]
  },
  {
   "cell_type": "code",
   "execution_count": 32,
   "metadata": {},
   "outputs": [],
   "source": [
    "# max = (0, 0)\n",
    "# for i in all_file_path:\n",
    "#     test = cv2.imread(i)\n",
    "#     if test.shape > max:\n",
    "#         max = test.shape\n",
    "\n",
    "# print(max)"
   ]
  },
  {
   "cell_type": "code",
   "execution_count": 33,
   "metadata": {},
   "outputs": [
    {
     "data": {
      "text/plain": [
       "(120, 1900)"
      ]
     },
     "execution_count": 33,
     "metadata": {},
     "output_type": "execute_result"
    },
    {
     "data": {
      "image/png": "[encoded data removed]",
      "text/plain": [
       "<Figure size 1440x720 with 1 Axes>"
      ]
     },
     "metadata": {
      "needs_background": "light"
     },
     "output_type": "display_data"
    }
   ],
   "source": [
    "plt.figure(figsize=(20,10))\n",
    "image = preprocess(all_file_path[0])\n",
    "image = remove_cursive_style(image)\n",
    "plt.imshow(image)\n",
    "\n",
    "image.shape"
   ]
  },
  {
   "cell_type": "code",
   "execution_count": 121,
   "metadata": {},
   "outputs": [],
   "source": [
    "TRAIN_NEW = './Data/Train'\n",
    "VAL = './Data/Test'\n",
    "# for i in all_file_path:\n",
    "#     filename = i.split('/')[-1]\n",
    "#     path = os.path.join(TRAIN_NEW, filename)\n",
    "#     image = preprocess(i)\n",
    "#     image = remove_cursive_style(image)\n",
    "#     cv2.imwrite(path, image)\n"
   ]
  },
  {
   "cell_type": "code",
   "execution_count": 129,
   "metadata": {},
   "outputs": [],
   "source": [
    "path = pathlib.Path(TRAIN_NEW, '')\n",
    "\n",
    "all_file_path = path.glob('*.png')\n",
    "all_file_path = list(all_file_path)\n",
    "all_file_path = [str(path) for path in list(all_file_path)]"
   ]
  },
  {
   "cell_type": "code",
   "execution_count": 130,
   "metadata": {},
   "outputs": [
    {
     "data": {
      "text/plain": [
       "1823"
      ]
     },
     "execution_count": 130,
     "metadata": {},
     "output_type": "execute_result"
    }
   ],
   "source": [
    "len(all_file_path)"
   ]
  },
  {
   "cell_type": "code",
   "execution_count": 131,
   "metadata": {},
   "outputs": [
    {
     "data": {
      "text/plain": [
       "(120, 1900, 3)"
      ]
     },
     "execution_count": 131,
     "metadata": {},
     "output_type": "execute_result"
    }
   ],
   "source": [
    "test_img = cv2.imread('./Data/Train/0287_samples.png')\n",
    "test_img.shape"
   ]
  },
  {
   "cell_type": "code",
   "execution_count": 133,
   "metadata": {},
   "outputs": [
    {
     "name": "stdout",
     "output_type": "stream",
     "text": [
      "1640 183\n"
     ]
    }
   ],
   "source": [
    "len_data = len(all_file_path)\n",
    "ratio = 0.1\n",
    "len_train = int(len_data * (1- ratio))\n",
    "len_val = len_data - len_train\n",
    "print(len_train, len_val)"
   ]
  },
  {
   "cell_type": "code",
   "execution_count": 134,
   "metadata": {},
   "outputs": [],
   "source": [
    "# !rm -rf Data/Test/*"
   ]
  },
  {
   "cell_type": "code",
   "execution_count": 135,
   "metadata": {},
   "outputs": [],
   "source": [
    "import shutil\n",
    "\n",
    "train_path = all_file_path[:len_train]\n",
    "val_path = all_file_path[len_train:]\n",
    "\n",
    "for i in val_path:\n",
    "    shutil.move(i, VAL)"
   ]
  },
  {
   "cell_type": "code",
   "execution_count": 140,
   "metadata": {},
   "outputs": [
    {
     "data": {
      "text/plain": [
       "1640"
      ]
     },
     "execution_count": 140,
     "metadata": {},
     "output_type": "execute_result"
    }
   ],
   "source": [
    "train_path = pathlib.Path(TRAIN_NEW)\n",
    "train_path = train_path.glob('**/*')\n",
    "train_path = [str(i) for i in train_path]\n",
    "len(train_path)"
   ]
  },
  {
   "cell_type": "code",
   "execution_count": 141,
   "metadata": {},
   "outputs": [
    {
     "data": {
      "text/plain": [
       "183"
      ]
     },
     "execution_count": 141,
     "metadata": {},
     "output_type": "execute_result"
    }
   ],
   "source": [
    "val_path = pathlib.Path(VAL)\n",
    "val_path = val_path.glob('**/*')\n",
    "val_path = [str(i) for i in val_path]\n",
    "len(val_path)"
   ]
  },
  {
   "cell_type": "code",
   "execution_count": 138,
   "metadata": {},
   "outputs": [],
   "source": [
    "def clean_ipynb_folder_if_exists(folder):\n",
    "    folder = pathlib.Path(folder)\n",
    "    ipynb_paths = [str(item) for item in folder.glob('**/*') if item.is_dir() and item.name.startswith('.ipynb')]\n",
    "    if len(ipynb_paths) > 0:\n",
    "        for eachdir in ipynb_paths:\n",
    "            shutil.rmtree(eachdir)\n",
    "            print(\"Removed\", eachdir)\n",
    "    else:\n",
    "        print('No .ipynb_checkpoints to remove')"
   ]
  },
  {
   "cell_type": "code",
   "execution_count": 139,
   "metadata": {},
   "outputs": [
    {
     "name": "stdout",
     "output_type": "stream",
     "text": [
      "Removed Data/Train/.ipynb_checkpoints\n",
      "No .ipynb_checkpoints to remove\n"
     ]
    }
   ],
   "source": [
    "clean_ipynb_folder_if_exists(TRAIN_NEW)\n",
    "clean_ipynb_folder_if_exists(VAL)"
   ]
  },
  {
   "cell_type": "code",
   "execution_count": 143,
   "metadata": {},
   "outputs": [],
   "source": [
    "train_label = []\n",
    "val_label = []\n",
    "\n",
    "for i in train_path:\n",
    "    label = (i.split('/'))[-1]\n",
    "    label = all_labels[label]\n",
    "    train_label.append(label)\n",
    "    \n",
    "for i in val_path:\n",
    "    label = (i.split('/'))[-1]\n",
    "    label = all_labels[label]\n",
    "    val_label.append(label)"
   ]
  },
  {
   "cell_type": "code",
   "execution_count": 144,
   "metadata": {},
   "outputs": [
    {
     "name": "stdout",
     "output_type": "stream",
     "text": [
      "1640 183\n"
     ]
    }
   ],
   "source": [
    "print(len(train_label), len(val_label))"
   ]
  },
  {
   "cell_type": "markdown",
   "metadata": {},
   "source": [
    "### DATA GENERATOR"
   ]
  },
  {
   "cell_type": "code",
   "execution_count": 145,
   "metadata": {},
   "outputs": [],
   "source": [
    "def preprocess_path(path):\n",
    "    label = (path.split('/'))[-1]\n",
    "    label = all_labels[label]\n",
    "    image = tf.io.read_file(path)\n",
    "    image = tf.image.decode_jpeg(image, channels=3)\n",
    "#     image = tf.image.convert_image_dtype(image, tf.float32)\n",
    "#     image = tf.image.per_image_standardization(image)\n",
    "    image = image[:,:,1]\n",
    "    image = np.expand_dims(image, axis=2)\n",
    "    return np.array(image), label"
   ]
  },
  {
   "cell_type": "code",
   "execution_count": 146,
   "metadata": {},
   "outputs": [],
   "source": [
    "a, b = preprocess_path(train_path[0])\n",
    "# plt.imshow(a, cmap='gray')\n",
    "# a.shape"
   ]
  },
  {
   "cell_type": "code",
   "execution_count": 115,
   "metadata": {},
   "outputs": [],
   "source": [
    "# train_count = len(train_label)\n",
    "# val_count = len(val_label)\n",
    "\n",
    "# BATCH_SIZE = 64\n",
    "# AUTOTUNE = tf.data.experimental.AUTOTUNE\n",
    "\n",
    "# def create_ds(images, labels, count):\n",
    "#     ds = tf.data.Dataset.from_tensor_slices((images, labels))\n",
    "#     ds = ds.repeat()\n",
    "#     ds = ds.batch(BATCH_SIZE)\n",
    "#     ds = ds.prefetch(buffer_size=AUTOTUNE)\n",
    "    \n",
    "#     return ds\n"
   ]
  },
  {
   "cell_type": "markdown",
   "metadata": {},
   "source": [
    "### MODEL\n"
   ]
  },
  {
   "cell_type": "code",
   "execution_count": 147,
   "metadata": {},
   "outputs": [],
   "source": [
    "training_img = []\n",
    "for i in train_path:\n",
    "    image =  preprocess_path(i)[0]\n",
    "    training_img.append(image)\n"
   ]
  },
  {
   "cell_type": "code",
   "execution_count": 148,
   "metadata": {},
   "outputs": [
    {
     "data": {
      "text/plain": [
       "(120, 1900, 1)"
      ]
     },
     "execution_count": 148,
     "metadata": {},
     "output_type": "execute_result"
    }
   ],
   "source": [
    "training_img[0].shape"
   ]
  },
  {
   "cell_type": "code",
   "execution_count": 149,
   "metadata": {},
   "outputs": [
    {
     "data": {
      "text/plain": [
       "1640"
      ]
     },
     "execution_count": 149,
     "metadata": {},
     "output_type": "execute_result"
    }
   ],
   "source": [
    "train_label_len = []\n",
    "train_txt = []\n",
    "\n",
    "\n",
    "for i in train_label:\n",
    "    text_encode = encode(i)\n",
    "    train_txt.append(list(text_encode))\n",
    "    train_label_len.append(len(text_encode))\n",
    "\n",
    "len(train_label_len)"
   ]
  },
  {
   "cell_type": "code",
   "execution_count": 150,
   "metadata": {},
   "outputs": [],
   "source": [
    "valid_img = []\n",
    "for i in val_path:\n",
    "    image =  preprocess_path(i)[0]\n",
    "    valid_img.append(image)"
   ]
  },
  {
   "cell_type": "code",
   "execution_count": 151,
   "metadata": {},
   "outputs": [
    {
     "data": {
      "text/plain": [
       "(120, 1900, 1)"
      ]
     },
     "execution_count": 151,
     "metadata": {},
     "output_type": "execute_result"
    }
   ],
   "source": [
    "valid_img[1].shape"
   ]
  },
  {
   "cell_type": "code",
   "execution_count": 152,
   "metadata": {},
   "outputs": [
    {
     "data": {
      "text/plain": [
       "69"
      ]
     },
     "execution_count": 152,
     "metadata": {},
     "output_type": "execute_result"
    }
   ],
   "source": [
    "valid_label_len = []\n",
    "valid_txt =[]\n",
    "\n",
    "for i in val_label:\n",
    "    text_encode = encode(i)\n",
    "    valid_txt.append(list(text_encode))\n",
    "    valid_label_len.append(len(text_encode))\n",
    "\n",
    "max(valid_label_len)"
   ]
  },
  {
   "cell_type": "code",
   "execution_count": 153,
   "metadata": {},
   "outputs": [],
   "source": [
    "# import our model, different layers and activation function \n",
    "from tensorflow.keras.layers import Dense, LSTM, Reshape, BatchNormalization, Input, Conv2D, MaxPool2D, Lambda, Bidirectional\n",
    "from tensorflow.keras.models import Model\n",
    "from tensorflow.keras.activations import relu, sigmoid, softmax\n",
    "import tensorflow.keras.backend as K\n",
    "from tensorflow.keras.utils import to_categorical\n",
    "from tensorflow.keras.callbacks import ModelCheckpoint"
   ]
  },
  {
   "cell_type": "code",
   "execution_count": 154,
   "metadata": {},
   "outputs": [],
   "source": [
    "# OUR FULL MODEL OF CRNN AND LSTM\n",
    "\n",
    "# YOUR PART: TRY TO BUILD YOUR DIFFERENT TIMESTEPS AND BUILD TO DO IT, LET SAY 26 OR 32 INSTEAD OF 31 LIKE BELOW. \n",
    "\n",
    "# input with shape of height=118 and width=1875 \n",
    "inputs = Input(shape=(120,1900,1))   # (118,1875,3)\n",
    " \n",
    "# convolution layer with kernel size (3,3)\n",
    "conv_1 = Conv2D(64, (3,3), activation = 'relu', padding='same')(inputs)  # (120,1900,64)\n",
    "\n",
    "# poolig layer with kernel size (2,2) to make the height/2 and width/2  # (60,950,64)\n",
    "pool_1 = MaxPool2D(pool_size=(2, 2), strides=2)(conv_1)\n",
    "\n",
    "conv_2 = Conv2D(128, (3,3), activation = 'relu', padding='same')(pool_1)  # (60,950,128)\n",
    "\n",
    "# poolig layer with kernel size (2,2) to make the height/2 and width/2   # (30,475,128)\n",
    "pool_2 = MaxPool2D(pool_size=(2, 2), strides=2)(conv_2)\n",
    " \n",
    "conv_3 = Conv2D(256, (3,3), activation = 'relu', padding='same')(pool_2)   # (30,475,256)\n",
    " \n",
    "conv_4 = Conv2D(256, (3,3), activation = 'relu', padding='same')(conv_3)   # (30,475,256)\n",
    "\n",
    "# poolig layer with kernel size (2,2) to make the height/2              # (15,95,256)\n",
    "pool_4 = MaxPool2D(pool_size=(2, 5))(conv_4)\n",
    " \n",
    "conv_5 = Conv2D(512, (3,3), activation = 'relu', padding='same')(pool_4)  # (15,95,512)\n",
    "\n",
    "# Batch normalization layer\n",
    "batch_norm_5 = BatchNormalization()(conv_5)\n",
    " \n",
    "conv_6 = Conv2D(512, (3,3), activation = 'relu', padding='same')(batch_norm_5)  # (15,95,512)\n",
    "batch_norm_6 = BatchNormalization()(conv_6)\n",
    "\n",
    "# poolig layer with kernel size (2,2) to make the height/2       # (15,95,512)\n",
    "pool_6 = MaxPool2D(pool_size=(5, 1))(batch_norm_6)\n",
    "\n",
    "# didn't have padding = \"same\" to reduce timestep - 1 because kernel size is # (1,95,512)\n",
    "conv_7 = Conv2D(512, (3,1), activation = 'relu')(pool_6)\n",
    " \n",
    "# to remove the first dimension of one: (1, 95, 512) to (95, 512) \n",
    "squeezed = Lambda(lambda x: K.squeeze(x, 1))(conv_7)\n",
    " \n",
    "# bidirectional LSTM layers with units=95\n",
    "blstm_1 = Bidirectional(LSTM(95, return_sequences=True, dropout = 0.2))(squeezed)\n",
    "blstm_2 = Bidirectional(LSTM(95, return_sequences=True, dropout = 0.2))(blstm_1)\n",
    "\n",
    "# this is our softmax character proprobility with timesteps (31, 63)\n",
    "outputs = Dense(len(char_array)+1, activation = 'softmax')(blstm_2)\n",
    "\n",
    "# model to be used at test time\n",
    "\n",
    "act_model = Model(inputs, outputs)"
   ]
  },
  {
   "cell_type": "code",
   "execution_count": 155,
   "metadata": {},
   "outputs": [
    {
     "name": "stdout",
     "output_type": "stream",
     "text": [
      "Model: \"model_2\"\n",
      "_________________________________________________________________\n",
      "Layer (type)                 Output Shape              Param #   \n",
      "=================================================================\n",
      "input_2 (InputLayer)         [(None, 120, 1900, 1)]    0         \n",
      "_________________________________________________________________\n",
      "conv2d_7 (Conv2D)            (None, 120, 1900, 64)     640       \n",
      "_________________________________________________________________\n",
      "max_pooling2d_4 (MaxPooling2 (None, 60, 950, 64)       0         \n",
      "_________________________________________________________________\n",
      "conv2d_8 (Conv2D)            (None, 60, 950, 128)      73856     \n",
      "_________________________________________________________________\n",
      "max_pooling2d_5 (MaxPooling2 (None, 30, 475, 128)      0         \n",
      "_________________________________________________________________\n",
      "conv2d_9 (Conv2D)            (None, 30, 475, 256)      295168    \n",
      "_________________________________________________________________\n",
      "conv2d_10 (Conv2D)           (None, 30, 475, 256)      590080    \n",
      "_________________________________________________________________\n",
      "max_pooling2d_6 (MaxPooling2 (None, 15, 95, 256)       0         \n",
      "_________________________________________________________________\n",
      "conv2d_11 (Conv2D)           (None, 15, 95, 512)       1180160   \n",
      "_________________________________________________________________\n",
      "batch_normalization_2 (Batch (None, 15, 95, 512)       2048      \n",
      "_________________________________________________________________\n",
      "conv2d_12 (Conv2D)           (None, 15, 95, 512)       2359808   \n",
      "_________________________________________________________________\n",
      "batch_normalization_3 (Batch (None, 15, 95, 512)       2048      \n",
      "_________________________________________________________________\n",
      "max_pooling2d_7 (MaxPooling2 (None, 3, 95, 512)        0         \n",
      "_________________________________________________________________\n",
      "conv2d_13 (Conv2D)           (None, 1, 95, 512)        786944    \n",
      "_________________________________________________________________\n",
      "lambda_1 (Lambda)            (None, 95, 512)           0         \n",
      "_________________________________________________________________\n",
      "bidirectional_2 (Bidirection (None, 95, 190)           462080    \n",
      "_________________________________________________________________\n",
      "bidirectional_3 (Bidirection (None, 95, 190)           217360    \n",
      "_________________________________________________________________\n",
      "dense_1 (Dense)              (None, 95, 141)           26931     \n",
      "=================================================================\n",
      "Total params: 5,997,123\n",
      "Trainable params: 5,995,075\n",
      "Non-trainable params: 2,048\n",
      "_________________________________________________________________\n"
     ]
    }
   ],
   "source": [
    "act_model.summary()"
   ]
  },
  {
   "cell_type": "code",
   "execution_count": 156,
   "metadata": {},
   "outputs": [],
   "source": [
    "max_label_len = 70\n",
    "\n",
    "# define the label input shape for ctc\n",
    "labels = Input(name='the_labels', shape=[max_label_len], dtype='float32')\n",
    "\n",
    "# define a ctc lambda function to take arguments and return ctc_bach_cost\n",
    "# define the length of input and label for ctc\n",
    "input_length = Input(name='input_length', shape=[1], dtype='int64')\n",
    "label_length = Input(name='label_length', shape=[1], dtype='int64')\n",
    " \n",
    "\n",
    "def ctc_lambda_func(args):\n",
    "    y_pred, labels, input_length, label_length = args\n",
    "    \"\"\"\n",
    "    labels: tensor (number of samples, max_string_length) containing the truth labels.\n",
    "    y_pred: tensor (number of samples, time_steps, num_character_labels) containing the prediction, or output of the softmax.\n",
    "    input_length: tensor (number of samples, 1) containing the sequence length for each batch item in y_pred.\n",
    "    label_length: tensor (number of samples, 1) containing the sequence length for each batch item in y_true.\n",
    "    \"\"\"\n",
    "    return K.ctc_batch_cost(labels, y_pred, input_length, label_length)\n",
    "\n",
    "# out loss function (just take the inputs and put it in our ctc_batch_cost)\n",
    "loss_out = Lambda(ctc_lambda_func, output_shape=(1,), name='ctc')([outputs, labels, input_length, label_length])\n",
    "\n",
    "#model to be used at training time\n",
    "model = Model(inputs=[inputs, labels, input_length, label_length], outputs=loss_out)"
   ]
  },
  {
   "cell_type": "code",
   "execution_count": 157,
   "metadata": {},
   "outputs": [
    {
     "name": "stdout",
     "output_type": "stream",
     "text": [
      "Model: \"model_3\"\n",
      "__________________________________________________________________________________________________\n",
      "Layer (type)                    Output Shape         Param #     Connected to                     \n",
      "==================================================================================================\n",
      "input_2 (InputLayer)            [(None, 120, 1900, 1 0                                            \n",
      "__________________________________________________________________________________________________\n",
      "conv2d_7 (Conv2D)               (None, 120, 1900, 64 640         input_2[0][0]                    \n",
      "__________________________________________________________________________________________________\n",
      "max_pooling2d_4 (MaxPooling2D)  (None, 60, 950, 64)  0           conv2d_7[0][0]                   \n",
      "__________________________________________________________________________________________________\n",
      "conv2d_8 (Conv2D)               (None, 60, 950, 128) 73856       max_pooling2d_4[0][0]            \n",
      "__________________________________________________________________________________________________\n",
      "max_pooling2d_5 (MaxPooling2D)  (None, 30, 475, 128) 0           conv2d_8[0][0]                   \n",
      "__________________________________________________________________________________________________\n",
      "conv2d_9 (Conv2D)               (None, 30, 475, 256) 295168      max_pooling2d_5[0][0]            \n",
      "__________________________________________________________________________________________________\n",
      "conv2d_10 (Conv2D)              (None, 30, 475, 256) 590080      conv2d_9[0][0]                   \n",
      "__________________________________________________________________________________________________\n",
      "max_pooling2d_6 (MaxPooling2D)  (None, 15, 95, 256)  0           conv2d_10[0][0]                  \n",
      "__________________________________________________________________________________________________\n",
      "conv2d_11 (Conv2D)              (None, 15, 95, 512)  1180160     max_pooling2d_6[0][0]            \n",
      "__________________________________________________________________________________________________\n",
      "batch_normalization_2 (BatchNor (None, 15, 95, 512)  2048        conv2d_11[0][0]                  \n",
      "__________________________________________________________________________________________________\n",
      "conv2d_12 (Conv2D)              (None, 15, 95, 512)  2359808     batch_normalization_2[0][0]      \n",
      "__________________________________________________________________________________________________\n",
      "batch_normalization_3 (BatchNor (None, 15, 95, 512)  2048        conv2d_12[0][0]                  \n",
      "__________________________________________________________________________________________________\n",
      "max_pooling2d_7 (MaxPooling2D)  (None, 3, 95, 512)   0           batch_normalization_3[0][0]      \n",
      "__________________________________________________________________________________________________\n",
      "conv2d_13 (Conv2D)              (None, 1, 95, 512)   786944      max_pooling2d_7[0][0]            \n",
      "__________________________________________________________________________________________________\n",
      "lambda_1 (Lambda)               (None, 95, 512)      0           conv2d_13[0][0]                  \n",
      "__________________________________________________________________________________________________\n",
      "bidirectional_2 (Bidirectional) (None, 95, 190)      462080      lambda_1[0][0]                   \n",
      "__________________________________________________________________________________________________\n",
      "bidirectional_3 (Bidirectional) (None, 95, 190)      217360      bidirectional_2[0][0]            \n",
      "__________________________________________________________________________________________________\n",
      "dense_1 (Dense)                 (None, 95, 141)      26931       bidirectional_3[0][0]            \n",
      "__________________________________________________________________________________________________\n",
      "the_labels (InputLayer)         [(None, 70)]         0                                            \n",
      "__________________________________________________________________________________________________\n",
      "input_length (InputLayer)       [(None, 1)]          0                                            \n",
      "__________________________________________________________________________________________________\n",
      "label_length (InputLayer)       [(None, 1)]          0                                            \n",
      "__________________________________________________________________________________________________\n",
      "ctc (Lambda)                    (None, 1)            0           dense_1[0][0]                    \n",
      "                                                                 the_labels[0][0]                 \n",
      "                                                                 input_length[0][0]               \n",
      "                                                                 label_length[0][0]               \n",
      "==================================================================================================\n",
      "Total params: 5,997,123\n",
      "Trainable params: 5,995,075\n",
      "Non-trainable params: 2,048\n",
      "__________________________________________________________________________________________________\n"
     ]
    }
   ],
   "source": [
    "model.summary()"
   ]
  },
  {
   "cell_type": "code",
   "execution_count": 165,
   "metadata": {},
   "outputs": [],
   "source": [
    "# ready ctc loss function and optimizersval\n",
    "model.compile(loss={'ctc': lambda y_true, y_pred: y_pred}, optimizer = 'adam')\n",
    "\n",
    "# ready out check point save file\n",
    "filepath=\"Khanh.hdf5\"\n",
    "checkpoint = ModelCheckpoint(filepath=filepath, monitor='val_loss', verbose=1, save_best_only=False, mode='auto')\n",
    "callbacks_list = [checkpoint]"
   ]
  },
  {
   "cell_type": "code",
   "execution_count": 159,
   "metadata": {},
   "outputs": [],
   "source": [
    "def pad(sequence):\n",
    "    MAXLEN = 70\n",
    "    sequence = list(sequence)\n",
    "    sequence = tf.keras.preprocessing.sequence.pad_sequences(sequence, maxlen=MAXLEN, padding='post')\n",
    "    return sequence"
   ]
  },
  {
   "cell_type": "code",
   "execution_count": 160,
   "metadata": {},
   "outputs": [],
   "source": [
    "# ready our training data\n",
    "training_img = np.array(training_img)\n",
    "train_padded_txt = pad(train_txt)\n",
    "train_input_len = np.ones(len(training_img))*95  # must be equal length to T timesteps = 95\n",
    "train_label_len = np.array(train_label_len)  # different length\n",
    "\n",
    "\n",
    "# ready our test data\n",
    "valid_img = np.array(valid_img)\n",
    "valid_padded_txt = pad(valid_txt)\n",
    "valid_input_len = np.ones(len(valid_img))*95 # must be equal length to T timesteps = 95\n",
    "valid_label_len = np.array(valid_label_len) # different length"
   ]
  },
  {
   "cell_type": "code",
   "execution_count": 166,
   "metadata": {},
   "outputs": [
    {
     "name": "stdout",
     "output_type": "stream",
     "text": [
      "Train on 1640 samples, validate on 183 samples\n",
      "Epoch 1/10\n",
      "1632/1640 [============================>.] - ETA: 0s - loss: 1.4671\n",
      "Epoch 00001: saving model to Khanh.hdf5\n",
      "1640/1640 [==============================] - 24s 14ms/sample - loss: 1.4688 - val_loss: 35.7833\n",
      "Epoch 2/10\n",
      "1632/1640 [============================>.] - ETA: 0s - loss: 2.2038\n",
      "Epoch 00002: saving model to Khanh.hdf5\n",
      "1640/1640 [==============================] - 16s 10ms/sample - loss: 2.2079 - val_loss: 39.1510\n",
      "Epoch 3/10\n",
      "1632/1640 [============================>.] - ETA: 0s - loss: 1.9767\n",
      "Epoch 00003: saving model to Khanh.hdf5\n",
      "1640/1640 [==============================] - 16s 10ms/sample - loss: 1.9767 - val_loss: 38.1586\n",
      "Epoch 4/10\n",
      "1632/1640 [============================>.] - ETA: 0s - loss: 1.5531\n",
      "Epoch 00004: saving model to Khanh.hdf5\n",
      "1640/1640 [==============================] - 16s 10ms/sample - loss: 1.5562 - val_loss: 36.3145\n",
      "Epoch 5/10\n",
      "1632/1640 [============================>.] - ETA: 0s - loss: 1.3748\n",
      "Epoch 00005: saving model to Khanh.hdf5\n",
      "1640/1640 [==============================] - 16s 10ms/sample - loss: 1.3764 - val_loss: 37.4915\n",
      "Epoch 6/10\n",
      "1632/1640 [============================>.] - ETA: 0s - loss: 1.0655\n",
      "Epoch 00006: saving model to Khanh.hdf5\n",
      "1640/1640 [==============================] - 16s 10ms/sample - loss: 1.0650 - val_loss: 37.0111\n",
      "Epoch 7/10\n",
      "1632/1640 [============================>.] - ETA: 0s - loss: 1.0921\n",
      "Epoch 00007: saving model to Khanh.hdf5\n",
      "1640/1640 [==============================] - 16s 10ms/sample - loss: 1.0927 - val_loss: 36.2142\n",
      "Epoch 8/10\n",
      "1632/1640 [============================>.] - ETA: 0s - loss: 0.7772\n",
      "Epoch 00008: saving model to Khanh.hdf5\n",
      "1640/1640 [==============================] - 16s 10ms/sample - loss: 0.7764 - val_loss: 36.6436\n",
      "Epoch 9/10\n",
      "1632/1640 [============================>.] - ETA: 0s - loss: 0.7231\n",
      "Epoch 00009: saving model to Khanh.hdf5\n",
      "1640/1640 [==============================] - 16s 10ms/sample - loss: 0.7242 - val_loss: 37.6861\n",
      "Epoch 10/10\n",
      "1632/1640 [============================>.] - ETA: 0s - loss: 0.8700\n",
      "Epoch 00010: saving model to Khanh.hdf5\n",
      "1640/1640 [==============================] - 16s 10ms/sample - loss: 0.8726 - val_loss: 40.1592\n"
     ]
    },
    {
     "data": {
      "text/plain": [
       "<tensorflow.python.keras.callbacks.History at 0x7f941c4d42b0>"
      ]
     },
     "execution_count": 166,
     "metadata": {},
     "output_type": "execute_result"
    }
   ],
   "source": [
    "# choose batchsize and epochs\n",
    "batch_size = 32\n",
    "epochs = 10\n",
    "model.fit(x=[training_img, train_padded_txt, train_input_len, train_label_len], \n",
    "          y=np.zeros(len(training_img)), \n",
    "          batch_size=batch_size, \n",
    "          epochs = epochs, \n",
    "          validation_data = ([valid_img, valid_padded_txt, valid_input_len, valid_label_len], [np.zeros(len(valid_img))]), \n",
    "          verbose = 1, \n",
    "          callbacks = callbacks_list)"
   ]
  },
  {
   "cell_type": "code",
   "execution_count": 61,
   "metadata": {},
   "outputs": [],
   "source": [
    "# save our model\n",
    "# model.save('Khanh.h5')"
   ]
  },
  {
   "cell_type": "code",
   "execution_count": 167,
   "metadata": {},
   "outputs": [],
   "source": [
    "# load the saved best model weights\n",
    "act_model.load_weights('Khanh.hdf5')\n",
    "\n",
    "# predict outputs on validation images\n",
    "prediction = act_model.predict(valid_img[:10])"
   ]
  },
  {
   "cell_type": "code",
   "execution_count": 170,
   "metadata": {},
   "outputs": [
    {
     "name": "stdout",
     "output_type": "stream",
     "text": [
      "original_text =   73 Kỳ Đồng, Phường Thanh Khê Đông, Quận Thanh Khê, Đà Nẵng\n",
      "predicted text = 53 Ki Đồng, Phường Thanh hê Đông Quận Thanh Khê Đà Nẵng\n",
      "\n",
      "original_text =   25 Đường C18, Phường 12, Quận Tân Bình, TP Hồ Chí Minh\n",
      "predicted text = 25 Đường 18, Phường 12, Quận Tân Bình, TP Hồ Chí Minh\n",
      "\n",
      "original_text =   56/7C Nguyễn Thông, Phường 09, Quận 3, TP Hồ Chí Minh\n",
      "predicted text = 5/1 Nguyễn hưng, Phường 09, Quận 3, TP Hồ Chí Minh\n",
      "\n",
      "original_text =   Thôn Đại Lương, Xã Thái Hòa, Huyện Lập Thạch, Vĩnh Phúc\n",
      "predicted text = Thôn Đại Lương, Xã Thái Hoà, Huyện Lấp Trạch, Vinh Phúc\n",
      "\n",
      "original_text =   65 Võ Như Hưng, Phường Mỹ An, Quận Ngũ Hành Sơn, Đà Nẵng\n",
      "predicted text = 65 Võ Như Hưng , Phường Mổ An, Quận Ngũ Hành Sơn, Đà Naẵng\n",
      "\n",
      "original_text =   Số 224, ấp 4, Xã Thạnh Đức, Huyện Bến Lức, Long An\n",
      "predicted text = Số 24, ấp 4, Xã Thạnh Đức, Huyện Bến Lức, Long An\n",
      "\n",
      "original_text =   Thị trấn Ba Tơ, Huyện Ba Tơ, Quảng Ngãi\n",
      "predicted text = Thị tấu Ba Tổ, Huyện Ba Từ, Quảng Ngãi\n",
      "\n",
      "original_text =   100 Đường 30, Phường Bình Trị Đông B, Quận Bình Tân, TP Hồ Chí Minh\n",
      "predicted text = 10 Đường 30, Phường Bình rị Đông B, Quận Bình Tân, TP Hồ Chí Minh\n",
      "\n",
      "original_text =   225A/1, Khu Phố 1A, Phường An Phú, TX Thuận An, Bình Dương\n",
      "predicted text = 225A/1, Khu Phố 1A, Phường An Phú, TX Thuận An, Bình Duương\n",
      "\n",
      "original_text =   338/6C Nguyễn Xí, Phường 13, Quận Bình Thạnh, TP Hồ Chí Minh\n",
      "predicted text = 3/6C Nguyễn X, Phường 13, Quận Bình Thạnh, TP Hồ Chí Minh\n",
      "\n"
     ]
    }
   ],
   "source": [
    "# use CTC decoder\n",
    "out = K.get_value(K.ctc_decode(prediction, input_length=np.ones(prediction.shape[0])*prediction.shape[1],\n",
    "                         greedy=True)[0][0])\n",
    " \n",
    "# see the results\n",
    "i = 0\n",
    "for x in out:\n",
    "    print(\"original_text =  \", val_label[i])\n",
    "    print(\"predicted text = \", end = '')\n",
    "    for p in x:  \n",
    "        if int(p) != -1:\n",
    "            print(charset[int(p)], end = '')       \n",
    "    print('\\n')\n",
    "    i+=1"
   ]
  }
 ],
 "metadata": {
  "kernelspec": {
   "display_name": "Python 3",
   "language": "python",
   "name": "python3"
  },
  "language_info": {
   "codemirror_mode": {
    "name": "ipython",
    "version": 3
   },
   "file_extension": ".py",
   "mimetype": "text/x-python",
   "name": "python",
   "nbconvert_exporter": "python",
   "pygments_lexer": "ipython3",
   "version": "3.5.3"
  }
 },
 "nbformat": 4,
 "nbformat_minor": 4
}
